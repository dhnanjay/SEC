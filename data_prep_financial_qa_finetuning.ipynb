{
  "nbformat": 4,
  "nbformat_minor": 0,
  "metadata": {
    "colab": {
      "provenance": [],
      "include_colab_link": true
    },
    "kernelspec": {
      "name": "python3",
      "display_name": "Python 3"
    },
    "language_info": {
      "name": "python"
    }
  },
  "cells": [
    {
      "cell_type": "markdown",
      "metadata": {
        "id": "view-in-github",
        "colab_type": "text"
      },
      "source": [
        "<a href=\"https://colab.research.google.com/github/dhnanjay/SEC/blob/main/data_prep_financial_qa_finetuning.ipynb\" target=\"_parent\"><img src=\"https://colab.research.google.com/assets/colab-badge.svg\" alt=\"Open In Colab\"/></a>"
      ]
    },
    {
      "cell_type": "markdown",
      "source": [
        "### 0. Setup"
      ],
      "metadata": {
        "id": "9U3Nc9kGsLS6"
      }
    },
    {
      "cell_type": "code",
      "source": [
        "!pip install financial-datasets --quiet\n",
        "# https://twitter.com/virattt/status/1792665590676488597"
      ],
      "metadata": {
        "id": "xsIUPmX46d3a"
      },
      "execution_count": null,
      "outputs": []
    },
    {
      "cell_type": "code",
      "source": [
        "import getpass\n",
        "import os\n",
        "\n",
        "# Set your OpenAI API key\n",
        "os.environ[\"OPENAI_API_KEY\"] = getpass.getpass()"
      ],
      "metadata": {
        "id": "t-uBD5eZsNRJ"
      },
      "execution_count": null,
      "outputs": []
    },
    {
      "cell_type": "markdown",
      "source": [
        "### 1. Create dataset"
      ],
      "metadata": {
        "id": "nxJcAxq3rjIG"
      }
    },
    {
      "cell_type": "code",
      "source": [
        "from financial_datasets.generator import DatasetGenerator\n",
        "\n",
        "# Generate a dataset from NVDA's 2023 10-K\n",
        "generator = DatasetGenerator(api_key=os.environ[\"OPENAI_API_KEY\"], model=\"gpt-4o\")\n",
        "dataset = generator.generate_from_10K(\n",
        "    ticker=\"NVDA\",\n",
        "    year=2023,\n",
        "    max_questions=100,\n",
        "    item_names=[\"Item 1\", \"Item 6\", \"Item 7\", \"Item 8\"],\n",
        ")"
      ],
      "metadata": {
        "id": "YCrddtMBug2r"
      },
      "execution_count": null,
      "outputs": []
    },
    {
      "cell_type": "code",
      "source": [
        "qa_items = dataset.dict()[\"items\"]"
      ],
      "metadata": {
        "id": "j-Xm7s17sv09"
      },
      "execution_count": null,
      "outputs": []
    },
    {
      "cell_type": "markdown",
      "source": [
        "### 2. Convert to Hugging Face Dataset"
      ],
      "metadata": {
        "id": "DPJVrgPas3L1"
      }
    },
    {
      "cell_type": "code",
      "source": [
        "!pip install datasets --quiet"
      ],
      "metadata": {
        "id": "vnRIBP-VumPt"
      },
      "execution_count": null,
      "outputs": []
    },
    {
      "cell_type": "code",
      "source": [
        "from datasets import Dataset\n",
        "\n",
        "# Convert the generated dataset into a huggingface dataset\n",
        "dataset = Dataset.from_list(qa_items)"
      ],
      "metadata": {
        "id": "U486xsSKs7KC"
      },
      "execution_count": null,
      "outputs": []
    },
    {
      "cell_type": "markdown",
      "source": [
        "### 3. Upload to Hugging Face"
      ],
      "metadata": {
        "id": "Nas_rVxhuZ0U"
      }
    },
    {
      "cell_type": "code",
      "source": [
        "!pip install huggingface_hub --quiet"
      ],
      "metadata": {
        "id": "RU607A-MuqEn"
      },
      "execution_count": null,
      "outputs": []
    },
    {
      "cell_type": "code",
      "source": [
        "!huggingface-cli login"
      ],
      "metadata": {
        "id": "X6rzyYKMuI3a"
      },
      "execution_count": null,
      "outputs": []
    },
    {
      "cell_type": "code",
      "source": [
        "# Upload your dataset to huggingface\n",
        "dataset_path_hf = \"YOUR_HUGGINGFACE_USERNAME/nvda-2023-10K\"\n",
        "dataset.push_to_hub(dataset_path_hf)\n",
        "\n",
        "# Example: https://huggingface.co/datasets/virattt/nvda-2023-10K"
      ],
      "metadata": {
        "collapsed": true,
        "id": "lwxa7U-Xu4ba"
      },
      "execution_count": null,
      "outputs": []
    }
  ]
}