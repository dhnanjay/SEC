{
  "nbformat": 4,
  "nbformat_minor": 0,
  "metadata": {
    "colab": {
      "provenance": [],
      "machine_shape": "hm",
      "gpuType": "T4",
      "name": "intro-financial-datasets-10K.ipynb",
      "include_colab_link": true
    },
    "kernelspec": {
      "name": "python3",
      "display_name": "Python 3"
    },
    "language_info": {
      "name": "python"
    },
    "accelerator": "GPU"
  },
  "cells": [
    {
      "cell_type": "markdown",
      "metadata": {
        "id": "view-in-github",
        "colab_type": "text"
      },
      "source": [
        "<a href=\"https://colab.research.google.com/github/dhnanjay/SEC/blob/main/intro_financial_datasets_10K.ipynb\" target=\"_parent\"><img src=\"https://colab.research.google.com/assets/colab-badge.svg\" alt=\"Open In Colab\"/></a>"
      ]
    },
    {
      "cell_type": "markdown",
      "source": [
        "## 1. Initial setup and installation"
      ],
      "metadata": {
        "id": "LMSL10mjNHEV"
      }
    },
    {
      "cell_type": "code",
      "source": [
        "import getpass\n",
        "import os\n",
        "\n",
        "# For GPT-4\n",
        "os.environ[\"OPENAI_API_KEY\"] = getpass.getpass()"
      ],
      "metadata": {
        "id": "_HEpHWjeC0i2"
      },
      "execution_count": null,
      "outputs": []
    },
    {
      "cell_type": "code",
      "source": [
        "!pip install -U -q financial-datasets"
      ],
      "metadata": {
        "id": "-2lRJziCqqkB"
      },
      "execution_count": null,
      "outputs": []
    },
    {
      "cell_type": "markdown",
      "source": [
        "## 2. Generate the dataset"
      ],
      "metadata": {
        "id": "Y-z_s75FFhaG"
      }
    },
    {
      "cell_type": "code",
      "source": [
        "from financial_datasets.generator import DatasetGenerator\n",
        "\n",
        "# Create the dataset generator\n",
        "generator = DatasetGenerator(\n",
        "   model=\"gpt-3.5-turbo-0125\",\n",
        "   api_key=os.environ[\"OPENAI_API_KEY\"],\n",
        ")"
      ],
      "metadata": {
        "id": "8xmg1zN4JoKq"
      },
      "execution_count": null,
      "outputs": []
    },
    {
      "cell_type": "code",
      "source": [
        "# Generate the dataset!\n",
        "dataset = generator.generate_from_10K(ticker='NVDA', year=2022, max_questions=10)"
      ],
      "metadata": {
        "colab": {
          "base_uri": "https://localhost:8080/"
        },
        "id": "K-b_1BPtJsS1",
        "outputId": "27b833d2-b081-45b0-944a-633819c01f57"
      },
      "execution_count": null,
      "outputs": [
        {
          "output_type": "stream",
          "name": "stderr",
          "text": [
            "Generating questions: 100%|\u001b[32m██████████\u001b[0m| 10/10 [00:36<00:00,  3.64s/it]\n"
          ]
        }
      ]
    },
    {
      "cell_type": "markdown",
      "source": [
        "## 3. Visualize the dataset"
      ],
      "metadata": {
        "id": "YwdQMEsMncdw"
      }
    },
    {
      "cell_type": "code",
      "source": [
        "for index, item in enumerate(dataset.items):\n",
        "  print(f\"Question {index + 1}: {item.question}\")\n",
        "  print(f\"Answer: {item.answer}\")\n",
        "  print(f\"Context: {item.context}\")\n",
        "  print()"
      ],
      "metadata": {
        "colab": {
          "base_uri": "https://localhost:8080/"
        },
        "id": "8kUhoGw7KodX",
        "outputId": "ab17ee3e-8cc9-48ed-8cc8-8b699c5a6f68"
      },
      "execution_count": null,
      "outputs": [
        {
          "output_type": "stream",
          "name": "stdout",
          "text": [
            "Question 1: What is NVIDIA's strategy to address competitive factors in the market for their products?\n",
            "Answer: NVIDIA addresses competitive factors in the market by focusing on performance, breadth of product offerings, access to customers and partners, distribution channels, software support, and manufacturing capabilities.\n",
            "Context: Competition\n",
            "The market for our products is intensely competitive and is characterized by rapid technological change and evolving industry standards. We believe that the principal competitive factors in this market are performance, breadth of product offerings, access to customers and partners and distribution channels, software support, conformity to industry standard APIs, manufacturing capabilities, processor pricing, and total system costs. We believe that our ability to remain competitive will depend on how well we are able to anticipate the features and functions that customers and partners will demand and whether we are able to deliver consistent volumes of our products at acceptable levels of quality and at competitive prices. We expect competition to increase from both existing competitors and new market entrants with products that may be lower priced than ours or may provide better performance or additional features not provided by our products. In addition, it is possible that new competitors or alliances among competitors could emerge and acquire significant market share.\n",
            "\n",
            "Question 2: What steps did the company take to support employees during the COVID-19 pandemic in fiscal year 2022?\n",
            "Answer: Providing work from home support, enhanced health coverage (including COVID-19 testing, vaccine costs, and mental health resources), learning and development resources for remote management, and virtual social connection opportunities for employees.\n",
            "Context: support our people and their families in making their health and safety a top priority. During fiscal year 2022 and the COVID-19 pandemic, we continued our global protocols to keep our workforce safe. For essential labs and offices that remain open, we maintained appropriate safety protocols and social distancing guidelines. Steps we took to support employees include: •Providing work from home support, including reimbursement for home office equipment and certain work from home expenses; •Enhanced health coverage, including-COVID-19 testing, vaccine costs and support, expanded mental health resources and virtual care offerings, and care for those with COVID-19; •Learning and development resources on how to lead and manage remotely; and •Opportunities for employees to socially connect with one another virtually.\n",
            "\n",
            "Question 3: What risks are related to failing to estimate customer demand properly?\n",
            "Answer: If we fail to estimate customer demand properly, there may be a mismatch between supply and demand, and our financial results could be harmed.\n",
            "Context: Risks Related to Demand, Supply and Manufacturing If we fail to estimate customer demand properly, there may be a mismatch between supply and demand, and our financial results could be harmed. Demand for our products is based on many factors, including our product introductions and transitions, time to market, competitor product releases and announcements, competing technologies, and other factors, all of which can impact the timing and volume of our revenue...\n",
            "\n",
            "Question 4: What risks does the company face due to compliance with laws and regulations?\n",
            "Answer: Compliance with laws and regulations can be onerous and expensive, could impact the company's competitive position, and may impact its business operations negatively.\n",
            "Context: regulations to which our business is subject, and political and other actions may adversely impact our business. We are subject to laws and regulations domestically and worldwide, affecting our operations in areas including, but not limited to, IP ownership and infringement; taxes; import and export requirements and tariffs; anti-corruption; business acquisitions; foreign exchange controls and cash repatriation restrictions; data privacy requirements; competition and antitrust; advertising; employment; product regulations; cybersecurity; environmental, health, and safety requirements; the responsible use of AI; climate change; cryptocurrency; and consumer laws. Compliance with such requirements can be onerous and expensive, could impact our competitive position, and may impact our business operations negatively.\n",
            "\n",
            "Question 5: Where is the headquarters of the company located?\n",
            "Answer: Santa Clara, California\n",
            "Context: ITEM 2. PROPERTIES Our headquarters is in Santa Clara, California. We own and lease approximately 1.76 million square feet of office and building space for our corporate headquarters. We have a new building at our Santa Clara campus which was completed in February 2022. In addition, we lease data center space in Santa Clara, California. We also own and lease facilities for data centers, research and development, and/or sales and administrative purposes throughout the U.S. and in various international locations, primarily in Asia, Israel, and Europe. We believe our existing facilities, both owned and leased, are in good condition and suitable for the conduct of our business.\n",
            "\n",
            "Question 6: When did the public trading of NVIDIA's common stock begin?\n",
            "Answer: Public trading of NVIDIA's common stock began on January 22, 1999.\n",
            "Context: Our common stock is traded on the Nasdaq Global Select Market under the symbol NVDA. Public trading of our common stock began on January 22, 1999.\n",
            "\n",
            "Question 7: What segments are included in NVIDIA's two operating segments?\n",
            "Answer: NVIDIA's two operating segments are 'Graphics' and 'Compute & Networking.'\n",
            "Context: Our two operating segments are 'Graphics' and 'Compute & Networking.' Refer to Note 17 of the Notes to the Consolidated Financial Statements in Part IV, Item 15 of this Annual Report on Form 10-K for additional information.\n",
            "\n",
            "Question 8: What are the company's plans for fiscal year 2023 regarding climate change and renewable energy?\n",
            "Answer: In fiscal year 2023, the company plans to build Earth-2, an AI supercomputer dedicated to predicting the impacts of climate change and increase purchases of Renewable Energy Credits.\n",
            "Context: To date, there has been no material impact to our results of operations associated with global sustainability regulations, compliance, costs from sourcing renewable energy or climate-related business trends. There are no material current climate change regulations impacting us, however, we are monitoring potential regulation changes in California, the United States, the United Kingdom, the European Union and other jurisdictions. We believe that climate change has not had a material impact to our revenue to date. We have not experienced any significant physical effects of climate change to date on our operations and results, nor any significant impacts on the cost or availability of insurance. In fiscal year 2023, we plan to build Earth-2, an AI supercomputer dedicated to predicting the impacts of climate change and increase our purchases of Renewable Energy Credits.\n",
            "\n",
            "Question 9: What was the impact on the fair value of investments in the fixed-rate investment portfolio based on the sensitivity analysis performed on January 30, 2022?\n",
            "Answer: A decrease in fair value of $33 million or an increase in fair value of $22 million.\n",
            "Context: As of January 30, 2022, we performed a sensitivity analysis on our investment portfolio. According to our analysis, parallel shifts in the yield curve of both plus or minus 0.5%, taking into account a zero percent yield floor, would result in a decrease in fair value for these investments of $33 million, or an increase in fair value for these investments of $22 million, respectively.\n",
            "\n",
            "Question 10: Where can the financial statements and supplementary data be found in the Annual Report on Form 10-K?\n",
            "Answer: Consolidated Financial Statements and Notes thereto included in this Annual Report on Form 10-K\n",
            "Context: ITEM 8. FINANCIAL STATEMENTS AND SUPPLEMENTARY DATA The information required by this Item is set forth in our Consolidated Financial Statements and Notes thereto included in this Annual Report on Form 10-K.\n",
            "\n"
          ]
        }
      ]
    }
  ]
}