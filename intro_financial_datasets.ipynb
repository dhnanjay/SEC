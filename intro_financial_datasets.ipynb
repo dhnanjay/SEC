{
  "nbformat": 4,
  "nbformat_minor": 0,
  "metadata": {
    "colab": {
      "provenance": [],
      "machine_shape": "hm",
      "gpuType": "T4"
    },
    "kernelspec": {
      "name": "python3",
      "display_name": "Python 3"
    },
    "language_info": {
      "name": "python"
    },
    "accelerator": "GPU"
  },
  "cells": [
    {
      "cell_type": "markdown",
      "source": [
        "## 1. Initial setup and installation"
      ],
      "metadata": {
        "id": "LMSL10mjNHEV"
      }
    },
    {
      "cell_type": "code",
      "source": [
        "import getpass\n",
        "import os\n",
        "\n",
        "# For GPT-4\n",
        "os.environ[\"OPENAI_API_KEY\"] = getpass.getpass()"
      ],
      "metadata": {
        "id": "_HEpHWjeC0i2"
      },
      "execution_count": null,
      "outputs": []
    },
    {
      "cell_type": "code",
      "source": [
        "!pip install -U -q financial-datasets"
      ],
      "metadata": {
        "id": "-2lRJziCqqkB"
      },
      "execution_count": null,
      "outputs": []
    },
    {
      "cell_type": "markdown",
      "source": [
        "## 2. Generate the dataset"
      ],
      "metadata": {
        "id": "Y-z_s75FFhaG"
      }
    },
    {
      "cell_type": "code",
      "source": [
        "from financial_datasets.generator import DatasetGenerator\n",
        "\n",
        "# Create the dataset generator\n",
        "generator = DatasetGenerator(\n",
        "   model=\"gpt-3.5-turbo-0125\",\n",
        "   api_key=os.environ[\"OPENAI_API_KEY\"],\n",
        ")"
      ],
      "metadata": {
        "id": "8xmg1zN4JoKq"
      },
      "execution_count": null,
      "outputs": []
    },
    {
      "cell_type": "code",
      "source": [
        "# Generate the dataset!\n",
        "dataset = generator.generate_from_10Q(ticker='COST', year=2024, quarter=1, max_questions=10)"
      ],
      "metadata": {
        "colab": {
          "base_uri": "https://localhost:8080/"
        },
        "id": "K-b_1BPtJsS1",
        "outputId": "eb4bdd61-66fd-4f1d-e69a-cd214600242b"
      },
      "execution_count": null,
      "outputs": [
        {
          "output_type": "stream",
          "name": "stderr",
          "text": [
            "Generating questions: 100%|\u001b[32m██████████\u001b[0m| 10/10 [00:30<00:00,  3.01s/it]\n"
          ]
        }
      ]
    },
    {
      "cell_type": "markdown",
      "source": [
        "## 3. Visualize the dataset"
      ],
      "metadata": {
        "id": "YwdQMEsMncdw"
      }
    },
    {
      "cell_type": "code",
      "source": [
        "for index, item in enumerate(dataset.items):\n",
        "  print(f\"Question {index + 1}: {item.question}\")\n",
        "  print(f\"Answer: {item.answer}\")\n",
        "  print(f\"Context: {item.context}\")\n",
        "  print()"
      ],
      "metadata": {
        "colab": {
          "base_uri": "https://localhost:8080/"
        },
        "id": "8kUhoGw7KodX",
        "outputId": "ac6d67d3-c331-4475-ea57-c69b3b60637c"
      },
      "execution_count": null,
      "outputs": [
        {
          "output_type": "stream",
          "name": "stdout",
          "text": [
            "Question 1: What was the total revenue for the 24 weeks ended February 18, 2024 for Costco Wholesale Corporation?\n",
            "Answer: $116,241 million\n",
            "Context: REVENUE | | | | | | |  Net sales | $ | 57,331 | | | $ | 54,239 | | $ | 114,048 | $ | 107,676\n",
            "Membership fees | 1,111 | | | 1,027 | | | $2,193 | | 2,027 \n",
            "Total revenue | 58,442 | | | 55,266 | | | $116,241 | | 109,703\n",
            "\n",
            "Question 2: How much was the quarterly cash dividend per share in the second quarter of 2024 for Costco?\n",
            "Answer: $1.02\n",
            "Context: Dividends\n",
            "A quarterly cash dividend of $1.02 per share was declared on January 18, 2024, and paid on February 16, 2024. The dividend was $0.90 per share in the second quarter of 2023.\n",
            "\n",
            "Question 3: What legal proceedings involve claims of inaccurate wage statements and failure to pay overtime compensation under New York law?\n",
            "Answer: Lock et al. v. Costco Wholesale Corp. and Shah v. Costco Wholesale Corp.\n",
            "Context: Labor Law, for failure to pay overtime compensation and for inaccurate wage statements under New York law. Lock et al. v. Costco Wholesale Corp. (Case No. 2:23-cv-07904; E.D.N.Y.). On February 1, 2024, the Company served a motion to dismiss the inaccurate wage-statement claim. In October 2023, a current employee filed suit against the Company asserting collective and class claims on behalf of all \\\n",
            "\n",
            "Question 4: What legal actions were taken by the Company in response to the class action suit related to labor code violations in California?\n",
            "Answer: The Company moved to compel arbitration of the plaintiff's individual claims and to dismiss the class action complaint.\n",
            "Context: In July 2021, a former temporary staffing employee filed a class action against the Company and a staffing company, alleging violations of the California Labor Code regarding payment of wages, meal and rest periods, wage statements, the timeliness of wages and final wages, and for unfair business practices. Dimas v. Costco Wholesale Corp. (Case No. STK-CV-UOE-2021-0006024; San Joaquin Superior Court). The Company has moved to compel arbitration of the plaintiff's individual claims and to dismiss the class action complaint.\n",
            "\n",
            "Question 5: What are some of the factors that could impact the Company's forward-looking statements according to the provided text?\n",
            "Answer: The factors that could impact the Company's forward-looking statements include domestic and international economic conditions, competition and regulation, financial markets uncertainties, consumer spending patterns, geopolitical conditions, and effects of tariffs among others.\n",
            "Context: Forward-looking statements involve risks and uncertainties, including domestic and international economic conditions, competition and regulation, uncertainties in financial markets, consumer spending patterns, geopolitical conditions (including tariffs and the Ukraine conflict), and other risks identified in the Company's public statements and reports.\n",
            "\n",
            "Question 6: How are net sales and comparable sales influenced by factors such as fluctuations in currency exchange rates and changes in gasoline prices according to the text?\n",
            "Answer: Fluctuations in currency exchange rates and changes in gasoline prices can impact net sales by affecting the average price per gallon sold and the foreign-exchange rates used to convert financial results. These factors may positively or negatively impact net sales and gross margin percentages.\n",
            "Context: During the second quarter of 2024, lower gasoline prices negatively impacted net sales by $231 with a 3% decrease in the average price per gallon sold. Changes in foreign currencies relative to the U.S. dollar positively impacted net sales by approximately $94 compared to the second quarter of 2023.\n",
            "\n",
            "Question 7: What is the direct exposure to financial market risk mentioned in the text?\n",
            "Answer: Fluctuations in foreign-currency exchange rates and interest rates.\n",
            "Context: Item 3—Quantitative and Qualitative Disclosures about Market Risk Our direct exposure to financial market risk results from fluctuations in foreign-currency exchange rates and interest rates. There have been no material changes to our market risks as disclosed in our Annual Report on Form 10-K, for the fiscal year ended September 3, 2023.\n",
            "\n",
            "Question 8: What is the conclusion of the Chief Executive Officer and the Chief Financial Officer regarding the disclosure controls and procedures as of February 18, 2024?\n",
            "Answer: The Chief Executive Officer and the Chief Financial Officer concluded that the disclosure controls and procedures were effective as of February 18, 2024.\n",
            "Context: Our disclosure controls and procedures...effective as of such date. Changes in Internal Control...an effective internal control over financial reporting.\n",
            "\n",
            "Question 9: What should investors carefully consider in addition to the information in the Quarterly Report on Form 10-Q?\n",
            "Answer: the factors discussed in Part I, Item 1A, \\\n",
            "Context: Item 1A—Risk Factors In addition to the other information set forth in the Quarterly Report on Form 10-Q, you should carefully consider the factors discussed in Part I, Item 1A, \\\n",
            "\n",
            "Question 10: What is the Exhibit Number for the Bylaws as amended of Costco Wholesale Corporation?\n",
            "Answer: 3.2\n",
            "Context: 3.2 | Bylaws as amended of Costco Wholesale Corporation | | 8-K | | 8/10/2023\n",
            "\n"
          ]
        }
      ]
    }
  ]
}