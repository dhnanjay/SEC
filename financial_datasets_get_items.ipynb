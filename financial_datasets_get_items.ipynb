{
  "nbformat": 4,
  "nbformat_minor": 0,
  "metadata": {
    "colab": {
      "provenance": [],
      "include_colab_link": true
    },
    "kernelspec": {
      "name": "python3",
      "display_name": "Python 3"
    },
    "language_info": {
      "name": "python"
    }
  },
  "cells": [
    {
      "cell_type": "markdown",
      "metadata": {
        "id": "view-in-github",
        "colab_type": "text"
      },
      "source": [
        "<a href=\"https://colab.research.google.com/github/dhnanjay/SEC/blob/main/financial_datasets_get_items.ipynb\" target=\"_parent\"><img src=\"https://colab.research.google.com/assets/colab-badge.svg\" alt=\"Open In Colab\"/></a>"
      ]
    },
    {
      "cell_type": "code",
      "execution_count": null,
      "metadata": {
        "id": "PhKifRbLmAH8"
      },
      "outputs": [],
      "source": [
        "!pip install financial-datasets"
      ]
    },
    {
      "cell_type": "markdown",
      "source": [
        "### Get Items from 10-K"
      ],
      "metadata": {
        "id": "UwjupRpAm-d5"
      }
    },
    {
      "cell_type": "code",
      "source": [
        "from financial_datasets.parser import FilingParser\n",
        "\n",
        "# Create filing parser\n",
        "parser = FilingParser()\n",
        "\n",
        "# Get Items from 10-K\n",
        "items = parser.get_10K_items(\n",
        "    ticker=\"TSLA\",\n",
        "    year=2023,\n",
        ")"
      ],
      "metadata": {
        "id": "wyBg4r4_mEXl"
      },
      "execution_count": null,
      "outputs": []
    },
    {
      "cell_type": "code",
      "source": [
        "# Print first 100 characters from each Item\n",
        "[item[:100] for item in items]"
      ],
      "metadata": {
        "colab": {
          "base_uri": "https://localhost:8080/"
        },
        "id": "_3vJQp1TnGk6",
        "outputId": "5c8627bb-3afa-42d0-990c-6e7265caf1ef"
      },
      "execution_count": null,
      "outputs": [
        {
          "output_type": "execute_result",
          "data": {
            "text/plain": [
              "['ITEM 1. BUSINESS Overview We design, develop, manufacture, sell and lease high-performance fully ele',\n",
              " 'ITEM 1A. RISK FACTORS You should carefully consider the risks described below together with the othe',\n",
              " 'ITEM 1C. CYBERSECURITY Cybersecurity Risk Management and Strategy We recognize the importance of ass',\n",
              " 'ITEM 2. PROPERTIES We are headquartered in Austin, Texas. Our principal facilities include a large n',\n",
              " 'ITEM 3. LEGAL PROCEEDINGS For a description of our material pending legal proceedings, please see No',\n",
              " 'ITEM 5. MARKET FOR REGISTRANT’S COMMON EQUITY, RELATED STOCKHOLDER MATTERS AND ISSUER PURCHASES OF E',\n",
              " 'ITEM 7. MANAGEMENT’S DISCUSSION AND ANALYSIS OF FINANCIAL CONDITION AND RESULTS OF OPERATIONS The fo',\n",
              " 'ITEM 7A. QUANTITATIVE AND QUALITATIVE DISCLOSURES ABOUT MARKET RISK Foreign Currency Risk We transac',\n",
              " 'ITEM 8. FINANCIAL STATEMENTS AND SUPPLEMENTARY DATA Index to Consolidated Financial Statements  | Pa',\n",
              " 'ITEM 9A. CONTROLS AND PROCEDURES Evaluation of Disclosure Controls and Procedures Our management, wi',\n",
              " 'ITEM 9B. OTHER INFORMATION None of the Company’s directors or officers adopted, modified or terminat',\n",
              " 'ITEM 10. DIRECTORS, EXECUTIVE OFFICERS AND CORPORATE GOVERNANCE The information required by this Ite',\n",
              " 'ITEM 12. SECURITY OWNERSHIP OF CERTAIN BENEFICIAL OWNERS AND MANAGEMENT AND RELATED STOCKHOLDER MATT',\n",
              " 'ITEM 13. CERTAIN RELATIONSHIPS AND RELATED TRANSACTIONS AND DIRECTOR INDEPENDENCE The information re',\n",
              " 'ITEM 15. EXHIBITS AND FINANCIAL STATEMENT SCHEDULES 1.Financial statements (see Index to Consolidate']"
            ]
          },
          "metadata": {},
          "execution_count": 15
        }
      ]
    },
    {
      "cell_type": "markdown",
      "source": [
        "### Get Items from 10-Q"
      ],
      "metadata": {
        "id": "cp9Wf7gmnAYJ"
      }
    },
    {
      "cell_type": "code",
      "source": [
        "from financial_datasets.parser import FilingParser\n",
        "\n",
        "# Create filing parser\n",
        "parser = FilingParser()\n",
        "\n",
        "# Get Items from 10-Q\n",
        "items = parser.get_10Q_items(\n",
        "    ticker=\"TSLA\",\n",
        "    year=2023,\n",
        "    quarter=4,\n",
        ")"
      ],
      "metadata": {
        "id": "nng81sv5m8K4"
      },
      "execution_count": null,
      "outputs": []
    },
    {
      "cell_type": "code",
      "source": [
        "# Print first 100 characters from each Item\n",
        "[item[:100] for item in items]"
      ],
      "metadata": {
        "colab": {
          "base_uri": "https://localhost:8080/"
        },
        "id": "URt65anDnNMl",
        "outputId": "d16adc7f-5c6c-4bf1-f186-fb28467a6706"
      },
      "execution_count": null,
      "outputs": [
        {
          "output_type": "execute_result",
          "data": {
            "text/plain": [
              "['ITEM 1.    FINANCIAL STATEMENTS Tesla, Inc. Consolidated Balance Sheets (in millions, except per sha',\n",
              " 'ITEM 2.    MANAGEMENT’S DISCUSSION AND ANALYSIS OF FINANCIAL CONDITION AND RESULTS OF OPERATIONS The',\n",
              " 'ITEM 3.    QUANTITATIVE AND QUALITATIVE DISCLOSURES ABOUT MARKET RISK Foreign Currency Risk We trans',\n",
              " 'ITEM 4.    CONTROLS AND PROCEDURES Evaluation of Disclosure Controls and Procedures Our management, ',\n",
              " 'ITEM 1A.    RISK FACTORS Our operations and financial results are subject to various risks and uncer',\n",
              " 'ITEM 5.    OTHER INFORMATION None of the Company’s directors or officers adopted, modified or termin',\n",
              " 'ITEM 6.    EXHIBITS See Index to Exhibits at the end of this Quarterly Report on Form 10-Q for the i']"
            ]
          },
          "metadata": {},
          "execution_count": 13
        }
      ]
    },
    {
      "cell_type": "code",
      "source": [],
      "metadata": {
        "id": "my153M3tnr2j"
      },
      "execution_count": null,
      "outputs": []
    }
  ]
}