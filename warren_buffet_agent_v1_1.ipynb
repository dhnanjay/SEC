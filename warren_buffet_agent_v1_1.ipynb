{
  "nbformat": 4,
  "nbformat_minor": 0,
  "metadata": {
    "colab": {
      "provenance": [],
      "include_colab_link": true
    },
    "kernelspec": {
      "name": "python3",
      "display_name": "Python 3"
    },
    "language_info": {
      "name": "python"
    }
  },
  "cells": [
    {
      "cell_type": "markdown",
      "metadata": {
        "id": "view-in-github",
        "colab_type": "text"
      },
      "source": [
        "<a href=\"https://colab.research.google.com/github/dhnanjay/SEC/blob/main/warren_buffet_agent_v1_1.ipynb\" target=\"_parent\"><img src=\"https://colab.research.google.com/assets/colab-badge.svg\" alt=\"Open In Colab\"/></a>"
      ]
    },
    {
      "cell_type": "markdown",
      "source": [
        "**Disclaimer**: This agent is not intended as financial advice.  It is for informational and entertainment purposes only.  Do your own due diligence."
      ],
      "metadata": {
        "id": "1RV4aPVE3ecA"
      }
    },
    {
      "cell_type": "code",
      "execution_count": null,
      "metadata": {
        "id": "GcvSoNAmVbXH"
      },
      "outputs": [],
      "source": [
        "!pip install -U --quiet langgraph langchain_community langchain_openai langsmith"
      ]
    },
    {
      "cell_type": "code",
      "source": [
        "import getpass\n",
        "import os\n",
        "\n",
        "# Set your OpenAI API key\n",
        "os.environ[\"OPENAI_API_KEY\"] = getpass.getpass()"
      ],
      "metadata": {
        "id": "aw9453mxY2GZ"
      },
      "execution_count": null,
      "outputs": []
    },
    {
      "cell_type": "code",
      "source": [
        "# You can get an API key here https://financialdatasets.ai/\n",
        "os.environ[\"FINANCIAL_DATASETS_API_KEY\"] = getpass.getpass()"
      ],
      "metadata": {
        "id": "wLgG34qXylsg"
      },
      "execution_count": null,
      "outputs": []
    },
    {
      "cell_type": "code",
      "source": [
        "# You can create an API key here https://smith.langchain.com/settings\n",
        "os.environ[\"LANGCHAIN_TRACING_V2\"] = \"True\"\n",
        "os.environ[\"LANGCHAIN_API_KEY\"] = getpass.getpass()"
      ],
      "metadata": {
        "id": "iqE_pMaMETeZ"
      },
      "execution_count": null,
      "outputs": []
    },
    {
      "cell_type": "markdown",
      "source": [
        "# Define the tools our agent can use"
      ],
      "metadata": {
        "id": "bqtPnq2Q7LKA"
      }
    },
    {
      "cell_type": "code",
      "source": [
        "from langchain_core.tools import tool\n",
        "\n",
        "\n",
        "@tool\n",
        "def roe(\n",
        "    net_income: float,\n",
        "    equity: float,\n",
        ") -> float:\n",
        "    \"\"\"\n",
        "    Computes the return on equity (ROE) for a given company.\n",
        "    Use this function to evaluate the profitability of a company.\n",
        "    \"\"\"\n",
        "    return net_income / equity\n",
        "\n",
        "\n",
        "@tool\n",
        "def roic(\n",
        "    operating_income: float,\n",
        "    total_debt: float,\n",
        "    equity: float,\n",
        "    cash_and_equivalents: float,\n",
        "    tax_rate: float = 0.35,\n",
        ") -> float:\n",
        "    \"\"\"\n",
        "    Computes the return on invested capital (ROIC) for a given company.\n",
        "    Use this function to evaluate the efficiency of a company in generating returns from its capital.\n",
        "    \"\"\"\n",
        "    net_operating_profit_after_tax = operating_income * (1 - tax_rate)\n",
        "    invested_capital = total_debt + equity - cash_and_equivalents\n",
        "    return net_operating_profit_after_tax / invested_capital\n",
        "\n",
        "\n",
        "@tool\n",
        "def owner_earnings(\n",
        "    net_income: float,\n",
        "    depreciation_amortization: float = 0.0,\n",
        "    capital_expenditures: float = 0.0\n",
        "):\n",
        "    \"\"\"\n",
        "    Calculates the owner earnings for a company based on the net income, depreciation/amortization, and capital expenditures.\n",
        "    \"\"\"\n",
        "    return net_income + depreciation_amortization - capital_expenditures\n",
        "\n",
        "\n",
        "@tool\n",
        "def intrinsic_value(\n",
        "    free_cash_flow: float,\n",
        "    growth_rate: float = 0.05,\n",
        "    discount_rate: float = 0.10,\n",
        "    terminal_growth_rate: float = 0.02,\n",
        "    num_years: int = 5,\n",
        ") -> float:\n",
        "    \"\"\"\n",
        "    Computes the discounted cash flow (DCF) for a given company based on the current free cash flow.\n",
        "    Use this function to calculate the intrinsic value of a stock.\n",
        "    \"\"\"\n",
        "    # Estimate the future cash flows based on the growth rate\n",
        "    cash_flows = [free_cash_flow * (1 + growth_rate) ** i for i in range(num_years)]\n",
        "\n",
        "    # Calculate the present value of projected cash flows\n",
        "    present_values = []\n",
        "    for i in range(num_years):\n",
        "        present_value = cash_flows[i] / (1 + discount_rate) ** (i + 1)\n",
        "        present_values.append(present_value)\n",
        "\n",
        "    # Calculate the terminal value\n",
        "    terminal_value = cash_flows[-1] * (1 + terminal_growth_rate) / (discount_rate - terminal_growth_rate)\n",
        "    terminal_present_value = terminal_value / (1 + discount_rate) ** num_years\n",
        "\n",
        "    # Sum up the present values and terminal value\n",
        "    dcf_value = sum(present_values) + terminal_present_value\n",
        "\n",
        "    return dcf_value"
      ],
      "metadata": {
        "id": "inc3sZdzsmQ-"
      },
      "execution_count": null,
      "outputs": []
    },
    {
      "cell_type": "code",
      "source": [
        "from langgraph.prebuilt import ToolNode\n",
        "\n",
        "from langchain_community.tools import IncomeStatements, BalanceSheets, CashFlowStatements\n",
        "from langchain_community.utilities.financial_datasets import FinancialDatasetsAPIWrapper\n",
        "\n",
        "# Create the tools\n",
        "api_wrapper = FinancialDatasetsAPIWrapper()\n",
        "integration_tools = [\n",
        "    IncomeStatements(api_wrapper=api_wrapper),\n",
        "    BalanceSheets(api_wrapper=api_wrapper),\n",
        "    CashFlowStatements(api_wrapper=api_wrapper),\n",
        "]\n",
        "\n",
        "local_tools = [intrinsic_value, roe, roic, owner_earnings]\n",
        "tools = integration_tools + local_tools\n",
        "\n",
        "tool_node = ToolNode(tools)"
      ],
      "metadata": {
        "id": "mczr2sUEVdYv"
      },
      "execution_count": null,
      "outputs": []
    },
    {
      "cell_type": "markdown",
      "source": [
        "# Set up the LLM"
      ],
      "metadata": {
        "id": "ABtfJlkWWs_9"
      }
    },
    {
      "cell_type": "code",
      "source": [
        "from langchain.tools.render import format_tool_to_openai_function\n",
        "from langchain_openai.chat_models import ChatOpenAI\n",
        "\n",
        "# Choose the LLM that will drive the agent\n",
        "model = ChatOpenAI(model=\"gpt-4o\", temperature=0).bind_tools(tools)"
      ],
      "metadata": {
        "id": "1Z05n9jgXB02"
      },
      "execution_count": null,
      "outputs": []
    },
    {
      "cell_type": "markdown",
      "source": [
        "# Define the agent state"
      ],
      "metadata": {
        "id": "-1QmeRXMXOpk"
      }
    },
    {
      "cell_type": "code",
      "source": [
        "from typing import TypedDict, Annotated, Sequence\n",
        "import operator\n",
        "from langchain_core.messages import BaseMessage\n",
        "\n",
        "class AgentState(TypedDict):\n",
        "    messages: Annotated[Sequence[BaseMessage], operator.add]"
      ],
      "metadata": {
        "id": "pdiItye3XRnC"
      },
      "execution_count": null,
      "outputs": []
    },
    {
      "cell_type": "markdown",
      "source": [
        "# Define the nodes"
      ],
      "metadata": {
        "id": "Nkx5fvUE7Hjz"
      }
    },
    {
      "cell_type": "code",
      "source": [
        "from typing import Literal\n",
        "from langgraph.graph import END, StateGraph, MessagesState\n",
        "\n",
        "\n",
        "# Define the function that determines whether to continue or not\n",
        "def should_continue(state: MessagesState) -> Literal[\"tools\", END]:\n",
        "    messages = state['messages']\n",
        "    last_message = messages[-1]\n",
        "    # If the LLM makes a tool call, then we route to the \"tools\" node\n",
        "    if last_message.tool_calls:\n",
        "        return \"tools\"\n",
        "    # Otherwise, we stop (reply to the user)\n",
        "    return END\n",
        "\n",
        "# Define the function that calls the model\n",
        "def call_model(state: MessagesState):\n",
        "    messages = state['messages']\n",
        "    response = model.invoke(messages)\n",
        "    # We return a list, because this will get added to the existing list\n",
        "    return {\"messages\": [response]}"
      ],
      "metadata": {
        "id": "nTW70qJEV6-A"
      },
      "execution_count": null,
      "outputs": []
    },
    {
      "cell_type": "markdown",
      "source": [
        "# Define the graph"
      ],
      "metadata": {
        "id": "WslINdsq7FWq"
      }
    },
    {
      "cell_type": "code",
      "source": [
        "from langgraph.checkpoint.memory import MemorySaver\n",
        "\n",
        "# Define a new graph\n",
        "workflow = StateGraph(MessagesState)\n",
        "\n",
        "# Define the two nodes we will cycle between\n",
        "workflow.add_node(\"agent\", call_model)\n",
        "workflow.add_node(\"tools\", tool_node)\n",
        "\n",
        "# Set the entrypoint as `agent`\n",
        "# This means that this node is the first one called\n",
        "workflow.set_entry_point(\"agent\")\n",
        "\n",
        "# We now add a conditional edge\n",
        "workflow.add_conditional_edges(\n",
        "    # First, we define the start node. We use `agent`.\n",
        "    # This means these are the edges taken after the `agent` node is called.\n",
        "    \"agent\",\n",
        "    # Next, we pass in the function that will determine which node is called next.\n",
        "    should_continue,\n",
        ")\n",
        "\n",
        "# We now add a normal edge from `tools` to `agent`.\n",
        "# This means that after `tools` is called, `agent` node is called next.\n",
        "workflow.add_edge(\"tools\", 'agent')\n",
        "\n",
        "# Initialize memory to persist state between graph runs\n",
        "checkpointer = MemorySaver()\n",
        "\n",
        "# Finally, we compile it!\n",
        "# This compiles it into a LangChain Runnable,\n",
        "# meaning you can use it as you would any other runnable.\n",
        "# Note that we're (optionally) passing the memory when compiling the graph\n",
        "app = workflow.compile(checkpointer=checkpointer)"
      ],
      "metadata": {
        "id": "xK5euZ6UWAhq"
      },
      "execution_count": null,
      "outputs": []
    },
    {
      "cell_type": "markdown",
      "source": [
        "# Run the financial agent"
      ],
      "metadata": {
        "id": "EQOLvjF7XvZR"
      }
    },
    {
      "cell_type": "code",
      "source": [
        "from langchain_core.messages import HumanMessage\n",
        "\n",
        "# Use the Runnable\n",
        "final_state = app.invoke(\n",
        "    {\"messages\": [HumanMessage(content=\"What is NVDA's intrinsic value given a discount rate of 5%, growth rate of 10%, terminal growth rate of 3%?\")]},\n",
        "    config={\"configurable\": {\"thread_id\": 42}}\n",
        ")\n",
        "final_state[\"messages\"][-1].content"
      ],
      "metadata": {
        "colab": {
          "base_uri": "https://localhost:8080/",
          "height": 35
        },
        "id": "BDiXx__hpilI",
        "outputId": "823a6db7-f235-4347-e17f-51e00b7c0f59"
      },
      "execution_count": null,
      "outputs": [
        {
          "output_type": "execute_result",
          "data": {
            "text/plain": [
              "'The intrinsic value of NVIDIA (NVDA) given a discount rate of 5%, growth rate of 10%, and terminal growth rate of 3% is approximately $1,806,645,106,719.94.'"
            ],
            "application/vnd.google.colaboratory.intrinsic+json": {
              "type": "string"
            }
          },
          "metadata": {},
          "execution_count": 67
        }
      ]
    },
    {
      "cell_type": "markdown",
      "source": [
        "# Create dataset for evaluation"
      ],
      "metadata": {
        "id": "wqQ8Pru9pw1F"
      }
    },
    {
      "cell_type": "code",
      "source": [
        "!pip install -U --quiet financial-datasets"
      ],
      "metadata": {
        "id": "SqSl4P5YwjZJ"
      },
      "execution_count": null,
      "outputs": []
    },
    {
      "cell_type": "markdown",
      "source": [
        "# Define helper functions for getting financials"
      ],
      "metadata": {
        "id": "m21jkItJw7kG"
      }
    },
    {
      "cell_type": "code",
      "source": [
        "def get_income_statements(ticker: str, period: str, limit: int) -> dict:\n",
        "    return api_wrapper.get_income_statements(ticker, period, limit)\n",
        "\n",
        "def get_balance_sheets(ticker: str, period: str, limit: int) -> dict:\n",
        "    return api_wrapper.get_balance_sheets(ticker, period, limit)\n",
        "\n",
        "def get_cash_flow_statements(ticker: str, period: str, limit: int) -> dict:\n",
        "    return api_wrapper.get_cash_flow_statements(ticker, period, limit)"
      ],
      "metadata": {
        "id": "7MFWUmU0xPHF"
      },
      "execution_count": null,
      "outputs": []
    },
    {
      "cell_type": "code",
      "source": [
        "ticker = \"NVDA\"\n",
        "income_statements = get_income_statements(ticker, 'ttm', 5)\n",
        "balance_sheets = get_balance_sheets(ticker, 'ttm', 5)\n",
        "cash_flow_statements = get_cash_flow_statements(ticker, 'ttm', 5)"
      ],
      "metadata": {
        "id": "lB1XUGJ9xYbO"
      },
      "execution_count": null,
      "outputs": []
    },
    {
      "cell_type": "markdown",
      "source": [
        "# Create a system prompt"
      ],
      "metadata": {
        "id": "RXsw7LKCy5BZ"
      }
    },
    {
      "cell_type": "code",
      "source": [
        "system_prompt = f\"\"\"\n",
        "You are an expert at creating datasets for evaluating Large Language Models (LLMs) in the domain of financial analysis. Your task is to generate a list of question-answer-context sets based on the provided financial data.\n",
        "\n",
        "These sets will be used to test LLMs' ability to accurately interpret and analyze financial information.\n",
        "\n",
        "Your goal is to create question-answer-context sets for {ticker}. Each set should consist of:\n",
        "1. A question about the financial data\n",
        "2. The correct answer to that question (ground truth)\n",
        "3. The relevant context from which the question and answer were derived\n",
        "\n",
        "Important: You will be given a some financial data as context, which you must use to generate the question-answer-context sets.\n",
        "\n",
        "Follow these guidelines when creating the sets:\n",
        "1. Questions should vary in complexity, ranging from simple data retrieval to more complex calculations and comparisons.\n",
        "2. Ensure that questions cover different aspects of the financial data, such as revenue, profitability, growth, and financial ratios.\n",
        "3. The context should provide enough information for a human evaluator to understand where the question and answer came from, without giving away the answer directly.\n",
        "4. Include the ticker symbol of the company and the year or quarterly context in every question.\n",
        "\n",
        "Examples of questions you might create:\n",
        "- Simple: \"What was NVDA's revenue for the period ending March 31, 2024?\"\n",
        "- Moderate: \"Calculate the year-over-year growth in gross profit between the two periods.\"\n",
        "- Complex: \"What is the change in operating margin between the two periods? (Operating margin = Operating income / Revenue)\"\n",
        "\n",
        "\"\"\""
      ],
      "metadata": {
        "id": "YX0iQFXay9UH"
      },
      "execution_count": null,
      "outputs": []
    },
    {
      "cell_type": "markdown",
      "source": [
        "# Generate question + answer dataset"
      ],
      "metadata": {
        "id": "7PiWJG_Ez7Nz"
      }
    },
    {
      "cell_type": "code",
      "source": [
        "max_questions = 5"
      ],
      "metadata": {
        "id": "xQ64jHxaMPlX"
      },
      "execution_count": null,
      "outputs": []
    },
    {
      "cell_type": "code",
      "source": [
        "from financial_datasets.generator import DatasetGenerator\n",
        "\n",
        "# Create dataset generator\n",
        "generator = DatasetGenerator(model=\"gpt-4-turbo\", api_key=os.environ[\"OPENAI_API_KEY\"])\n",
        "\n",
        "# Generate dataset from income_statements\n",
        "income_statements_dataset = generator.generate_from_texts(\n",
        "    texts={\"income_statements\": income_statements},\n",
        "    max_questions=max_questions,\n",
        "    system_prompt=system_prompt,\n",
        ")"
      ],
      "metadata": {
        "colab": {
          "base_uri": "https://localhost:8080/"
        },
        "id": "S6zbr-v3wmT_",
        "outputId": "69ee9ba3-0c9b-48c2-813f-a826a0479ea2"
      },
      "execution_count": null,
      "outputs": [
        {
          "output_type": "stream",
          "name": "stderr",
          "text": [
            "Generating questions: 100%|\u001b[32m██████████\u001b[0m| 5/5 [00:18<00:00,  3.67s/it]\n"
          ]
        }
      ]
    },
    {
      "cell_type": "code",
      "source": [
        "# Generate dataset from balance_sheets\n",
        "balance_sheets_dataset = generator.generate_from_texts(\n",
        "    texts={\"balance_sheets\": balance_sheets},\n",
        "    max_questions=max_questions,\n",
        "    system_prompt=system_prompt,\n",
        ")"
      ],
      "metadata": {
        "colab": {
          "base_uri": "https://localhost:8080/"
        },
        "id": "rr8Ilt3nzWcu",
        "outputId": "3194f9f6-4a7c-4a01-cd4b-84587b2035c3"
      },
      "execution_count": null,
      "outputs": [
        {
          "output_type": "stream",
          "name": "stderr",
          "text": [
            "Generating questions: 100%|\u001b[32m██████████\u001b[0m| 5/5 [00:15<00:00,  3.07s/it]\n"
          ]
        }
      ]
    },
    {
      "cell_type": "code",
      "source": [
        "# Generate dataset from cash_flow_statements\n",
        "cash_flow_statements_dataset = generator.generate_from_texts(\n",
        "    texts={\"cash_flow_statements\": cash_flow_statements},\n",
        "    max_questions=max_questions,\n",
        "    system_prompt=system_prompt,\n",
        ")"
      ],
      "metadata": {
        "colab": {
          "base_uri": "https://localhost:8080/"
        },
        "id": "sFu0DYS-zntB",
        "outputId": "f3a713bf-72e4-4421-f2c7-610cae9a9377"
      },
      "execution_count": null,
      "outputs": [
        {
          "output_type": "stream",
          "name": "stderr",
          "text": [
            "Generating questions: 100%|\u001b[32m██████████\u001b[0m| 5/5 [02:48<00:00, 33.75s/it]\n"
          ]
        }
      ]
    },
    {
      "cell_type": "code",
      "source": [
        "questions = income_statements_dataset.items + balance_sheets_dataset.items + cash_flow_statements_dataset.items"
      ],
      "metadata": {
        "id": "oLyMAkR4zglg"
      },
      "execution_count": null,
      "outputs": []
    },
    {
      "cell_type": "markdown",
      "source": [
        "# Visualize dataset"
      ],
      "metadata": {
        "id": "L4R_JqOH0E8V"
      }
    },
    {
      "cell_type": "code",
      "source": [
        "import json\n",
        "\n",
        "# Convert to JSON and print\n",
        "json_data = json.dumps([question.model_dump() for question in questions], indent=2)\n",
        "print(\"JSON data:\")\n",
        "print(json_data)"
      ],
      "metadata": {
        "id": "xXLoBhee0Ik9"
      },
      "execution_count": null,
      "outputs": []
    },
    {
      "cell_type": "code",
      "source": [
        "import pandas as pd\n",
        "\n",
        "# Convert to DataFrame and display\n",
        "df = pd.DataFrame([question.model_dump() for question in questions])\n",
        "print(\"\\nDataFrame:\")\n",
        "display(df)"
      ],
      "metadata": {
        "id": "gTepRPjb0Xj-"
      },
      "execution_count": null,
      "outputs": []
    },
    {
      "cell_type": "markdown",
      "source": [
        "# Create dataset in LangSmith"
      ],
      "metadata": {
        "id": "uWdesmjXFSfA"
      }
    },
    {
      "cell_type": "code",
      "source": [
        "inputs = []\n",
        "outputs = []\n",
        "\n",
        "for row in questions:\n",
        "  question = row.question\n",
        "  answer = row.answer\n",
        "  inputs.append(question)\n",
        "  outputs.append(answer)"
      ],
      "metadata": {
        "id": "26KynkgAFdZc"
      },
      "execution_count": null,
      "outputs": []
    },
    {
      "cell_type": "code",
      "source": [
        "from langsmith import Client\n",
        "\n",
        "# Create dataset\n",
        "client = Client()\n",
        "dataset_name = \"warren-buffett-agent-test-0.0.1\"\n",
        "dataset = client.create_dataset(\n",
        "    dataset_name=dataset_name,\n",
        "    description=\"QA pairs about NVDA's financials\",\n",
        ")\n",
        "client.create_examples(\n",
        "    inputs=[{\"question\": q} for q in inputs],\n",
        "    outputs=[{\"answer\": a} for a in outputs],\n",
        "    dataset_id=dataset.id,\n",
        ")"
      ],
      "metadata": {
        "id": "12a8tdCwFUPh"
      },
      "execution_count": null,
      "outputs": []
    },
    {
      "cell_type": "markdown",
      "source": [
        "# Evaluate"
      ],
      "metadata": {
        "id": "N9sg6fXw0dd-"
      }
    },
    {
      "cell_type": "code",
      "source": [
        "def predict_answer(example: dict):\n",
        "    \"\"\"Use this for answer evaluation\"\"\"\n",
        "    question = example.get(\"question\")\n",
        "\n",
        "    final_state = app.invoke(\n",
        "      {\"messages\": [HumanMessage(content=question)]},\n",
        "      config={\"configurable\": {\"thread_id\": 42}}\n",
        "    )\n",
        "    answer = final_state[\"messages\"][-1].content\n",
        "    return {\"answer\": answer}"
      ],
      "metadata": {
        "id": "TwWI6I9bEynD"
      },
      "execution_count": null,
      "outputs": []
    },
    {
      "cell_type": "code",
      "source": [
        "from langsmith.evaluation import LangChainStringEvaluator, evaluate\n",
        "\n",
        "eval_llm = ChatOpenAI(temperature=0.0, model=\"gpt-4o\")\n",
        "\n",
        "# Evaluator\n",
        "qa_evalulator = [\n",
        "    LangChainStringEvaluator(\n",
        "        \"qa\",\n",
        "        prepare_data=lambda run, example: {\n",
        "            \"prediction\": run.outputs[\"answer\"],\n",
        "            \"reference\": example.outputs[\"answer\"],\n",
        "            \"input\": example.inputs[\"question\"],\n",
        "        },\n",
        "        config={\"llm\": eval_llm}\n",
        "      ),\n",
        "]\n",
        "experiment_results = evaluate(\n",
        "    predict_answer,\n",
        "    data=dataset_name,\n",
        "    evaluators=qa_evalulator,\n",
        "    experiment_prefix=\"financial-rag-qa\",\n",
        "    metadata={\n",
        "      \"version\": \"1.0.0\",\n",
        "      \"revision_id\": \"beta\"\n",
        "    },\n",
        ")"
      ],
      "metadata": {
        "id": "2725a__9FL9s"
      },
      "execution_count": null,
      "outputs": []
    },
    {
      "cell_type": "code",
      "source": [],
      "metadata": {
        "id": "tr8Nz3vsGvrY"
      },
      "execution_count": null,
      "outputs": []
    }
  ]
}