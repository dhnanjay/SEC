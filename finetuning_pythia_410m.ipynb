{
  "nbformat": 4,
  "nbformat_minor": 0,
  "metadata": {
    "colab": {
      "provenance": [],
      "collapsed_sections": [
        "T02f6AxsNnxm",
        "9h0fp5Ufprxo",
        "TPcZHz3SMhLl",
        "Cl2ZOpfEMVTa",
        "0sIVgwwhMMK-"
      ],
      "machine_shape": "hm",
      "gpuType": "A100",
      "include_colab_link": true
    },
    "kernelspec": {
      "name": "python3",
      "display_name": "Python 3"
    },
    "language_info": {
      "name": "python"
    },
    "accelerator": "GPU",
    "widgets": {
      "application/vnd.jupyter.widget-state+json": {
        "4253ff620a2e43e79efcf54403ecce0b": {
          "model_module": "@jupyter-widgets/controls",
          "model_name": "HBoxModel",
          "model_module_version": "1.5.0",
          "state": {
            "_dom_classes": [],
            "_model_module": "@jupyter-widgets/controls",
            "_model_module_version": "1.5.0",
            "_model_name": "HBoxModel",
            "_view_count": null,
            "_view_module": "@jupyter-widgets/controls",
            "_view_module_version": "1.5.0",
            "_view_name": "HBoxView",
            "box_style": "",
            "children": [
              "IPY_MODEL_6f9f11a0a6bd429c96997f134de9d3c7",
              "IPY_MODEL_e8182524cc5e47a7a5f13c578d1494ce",
              "IPY_MODEL_6b58964e8b2b4df2a296aef4586d1332"
            ],
            "layout": "IPY_MODEL_b3783e8eeeb743e08ccabfcb10a8a87e"
          }
        },
        "6f9f11a0a6bd429c96997f134de9d3c7": {
          "model_module": "@jupyter-widgets/controls",
          "model_name": "HTMLModel",
          "model_module_version": "1.5.0",
          "state": {
            "_dom_classes": [],
            "_model_module": "@jupyter-widgets/controls",
            "_model_module_version": "1.5.0",
            "_model_name": "HTMLModel",
            "_view_count": null,
            "_view_module": "@jupyter-widgets/controls",
            "_view_module_version": "1.5.0",
            "_view_name": "HTMLView",
            "description": "",
            "description_tooltip": null,
            "layout": "IPY_MODEL_2d2690e512bf47a88a34f2c9d5de55b3",
            "placeholder": "​",
            "style": "IPY_MODEL_160b983723c547c0b0dd455376468819",
            "value": "Downloading data: 100%"
          }
        },
        "e8182524cc5e47a7a5f13c578d1494ce": {
          "model_module": "@jupyter-widgets/controls",
          "model_name": "FloatProgressModel",
          "model_module_version": "1.5.0",
          "state": {
            "_dom_classes": [],
            "_model_module": "@jupyter-widgets/controls",
            "_model_module_version": "1.5.0",
            "_model_name": "FloatProgressModel",
            "_view_count": null,
            "_view_module": "@jupyter-widgets/controls",
            "_view_module_version": "1.5.0",
            "_view_name": "ProgressView",
            "bar_style": "success",
            "description": "",
            "description_tooltip": null,
            "layout": "IPY_MODEL_68bb2b89d31f45cc845f03c3abdb0a18",
            "max": 505944,
            "min": 0,
            "orientation": "horizontal",
            "style": "IPY_MODEL_d6cb9bad47634b4bae281e5b4f64fb2d",
            "value": 505944
          }
        },
        "6b58964e8b2b4df2a296aef4586d1332": {
          "model_module": "@jupyter-widgets/controls",
          "model_name": "HTMLModel",
          "model_module_version": "1.5.0",
          "state": {
            "_dom_classes": [],
            "_model_module": "@jupyter-widgets/controls",
            "_model_module_version": "1.5.0",
            "_model_name": "HTMLModel",
            "_view_count": null,
            "_view_module": "@jupyter-widgets/controls",
            "_view_module_version": "1.5.0",
            "_view_name": "HTMLView",
            "description": "",
            "description_tooltip": null,
            "layout": "IPY_MODEL_6826bbc309dc493196e8f5b984b5f9cc",
            "placeholder": "​",
            "style": "IPY_MODEL_bc623a662f1b4c07bda4fbe2dafee242",
            "value": " 506k/506k [00:00&lt;00:00, 2.08MB/s]"
          }
        },
        "b3783e8eeeb743e08ccabfcb10a8a87e": {
          "model_module": "@jupyter-widgets/base",
          "model_name": "LayoutModel",
          "model_module_version": "1.2.0",
          "state": {
            "_model_module": "@jupyter-widgets/base",
            "_model_module_version": "1.2.0",
            "_model_name": "LayoutModel",
            "_view_count": null,
            "_view_module": "@jupyter-widgets/base",
            "_view_module_version": "1.2.0",
            "_view_name": "LayoutView",
            "align_content": null,
            "align_items": null,
            "align_self": null,
            "border": null,
            "bottom": null,
            "display": null,
            "flex": null,
            "flex_flow": null,
            "grid_area": null,
            "grid_auto_columns": null,
            "grid_auto_flow": null,
            "grid_auto_rows": null,
            "grid_column": null,
            "grid_gap": null,
            "grid_row": null,
            "grid_template_areas": null,
            "grid_template_columns": null,
            "grid_template_rows": null,
            "height": null,
            "justify_content": null,
            "justify_items": null,
            "left": null,
            "margin": null,
            "max_height": null,
            "max_width": null,
            "min_height": null,
            "min_width": null,
            "object_fit": null,
            "object_position": null,
            "order": null,
            "overflow": null,
            "overflow_x": null,
            "overflow_y": null,
            "padding": null,
            "right": null,
            "top": null,
            "visibility": null,
            "width": null
          }
        },
        "2d2690e512bf47a88a34f2c9d5de55b3": {
          "model_module": "@jupyter-widgets/base",
          "model_name": "LayoutModel",
          "model_module_version": "1.2.0",
          "state": {
            "_model_module": "@jupyter-widgets/base",
            "_model_module_version": "1.2.0",
            "_model_name": "LayoutModel",
            "_view_count": null,
            "_view_module": "@jupyter-widgets/base",
            "_view_module_version": "1.2.0",
            "_view_name": "LayoutView",
            "align_content": null,
            "align_items": null,
            "align_self": null,
            "border": null,
            "bottom": null,
            "display": null,
            "flex": null,
            "flex_flow": null,
            "grid_area": null,
            "grid_auto_columns": null,
            "grid_auto_flow": null,
            "grid_auto_rows": null,
            "grid_column": null,
            "grid_gap": null,
            "grid_row": null,
            "grid_template_areas": null,
            "grid_template_columns": null,
            "grid_template_rows": null,
            "height": null,
            "justify_content": null,
            "justify_items": null,
            "left": null,
            "margin": null,
            "max_height": null,
            "max_width": null,
            "min_height": null,
            "min_width": null,
            "object_fit": null,
            "object_position": null,
            "order": null,
            "overflow": null,
            "overflow_x": null,
            "overflow_y": null,
            "padding": null,
            "right": null,
            "top": null,
            "visibility": null,
            "width": null
          }
        },
        "160b983723c547c0b0dd455376468819": {
          "model_module": "@jupyter-widgets/controls",
          "model_name": "DescriptionStyleModel",
          "model_module_version": "1.5.0",
          "state": {
            "_model_module": "@jupyter-widgets/controls",
            "_model_module_version": "1.5.0",
            "_model_name": "DescriptionStyleModel",
            "_view_count": null,
            "_view_module": "@jupyter-widgets/base",
            "_view_module_version": "1.2.0",
            "_view_name": "StyleView",
            "description_width": ""
          }
        },
        "68bb2b89d31f45cc845f03c3abdb0a18": {
          "model_module": "@jupyter-widgets/base",
          "model_name": "LayoutModel",
          "model_module_version": "1.2.0",
          "state": {
            "_model_module": "@jupyter-widgets/base",
            "_model_module_version": "1.2.0",
            "_model_name": "LayoutModel",
            "_view_count": null,
            "_view_module": "@jupyter-widgets/base",
            "_view_module_version": "1.2.0",
            "_view_name": "LayoutView",
            "align_content": null,
            "align_items": null,
            "align_self": null,
            "border": null,
            "bottom": null,
            "display": null,
            "flex": null,
            "flex_flow": null,
            "grid_area": null,
            "grid_auto_columns": null,
            "grid_auto_flow": null,
            "grid_auto_rows": null,
            "grid_column": null,
            "grid_gap": null,
            "grid_row": null,
            "grid_template_areas": null,
            "grid_template_columns": null,
            "grid_template_rows": null,
            "height": null,
            "justify_content": null,
            "justify_items": null,
            "left": null,
            "margin": null,
            "max_height": null,
            "max_width": null,
            "min_height": null,
            "min_width": null,
            "object_fit": null,
            "object_position": null,
            "order": null,
            "overflow": null,
            "overflow_x": null,
            "overflow_y": null,
            "padding": null,
            "right": null,
            "top": null,
            "visibility": null,
            "width": null
          }
        },
        "d6cb9bad47634b4bae281e5b4f64fb2d": {
          "model_module": "@jupyter-widgets/controls",
          "model_name": "ProgressStyleModel",
          "model_module_version": "1.5.0",
          "state": {
            "_model_module": "@jupyter-widgets/controls",
            "_model_module_version": "1.5.0",
            "_model_name": "ProgressStyleModel",
            "_view_count": null,
            "_view_module": "@jupyter-widgets/base",
            "_view_module_version": "1.2.0",
            "_view_name": "StyleView",
            "bar_color": null,
            "description_width": ""
          }
        },
        "6826bbc309dc493196e8f5b984b5f9cc": {
          "model_module": "@jupyter-widgets/base",
          "model_name": "LayoutModel",
          "model_module_version": "1.2.0",
          "state": {
            "_model_module": "@jupyter-widgets/base",
            "_model_module_version": "1.2.0",
            "_model_name": "LayoutModel",
            "_view_count": null,
            "_view_module": "@jupyter-widgets/base",
            "_view_module_version": "1.2.0",
            "_view_name": "LayoutView",
            "align_content": null,
            "align_items": null,
            "align_self": null,
            "border": null,
            "bottom": null,
            "display": null,
            "flex": null,
            "flex_flow": null,
            "grid_area": null,
            "grid_auto_columns": null,
            "grid_auto_flow": null,
            "grid_auto_rows": null,
            "grid_column": null,
            "grid_gap": null,
            "grid_row": null,
            "grid_template_areas": null,
            "grid_template_columns": null,
            "grid_template_rows": null,
            "height": null,
            "justify_content": null,
            "justify_items": null,
            "left": null,
            "margin": null,
            "max_height": null,
            "max_width": null,
            "min_height": null,
            "min_width": null,
            "object_fit": null,
            "object_position": null,
            "order": null,
            "overflow": null,
            "overflow_x": null,
            "overflow_y": null,
            "padding": null,
            "right": null,
            "top": null,
            "visibility": null,
            "width": null
          }
        },
        "bc623a662f1b4c07bda4fbe2dafee242": {
          "model_module": "@jupyter-widgets/controls",
          "model_name": "DescriptionStyleModel",
          "model_module_version": "1.5.0",
          "state": {
            "_model_module": "@jupyter-widgets/controls",
            "_model_module_version": "1.5.0",
            "_model_name": "DescriptionStyleModel",
            "_view_count": null,
            "_view_module": "@jupyter-widgets/base",
            "_view_module_version": "1.2.0",
            "_view_name": "StyleView",
            "description_width": ""
          }
        },
        "e724b4bc1c474e54a6ad0b1e958b8edd": {
          "model_module": "@jupyter-widgets/controls",
          "model_name": "HBoxModel",
          "model_module_version": "1.5.0",
          "state": {
            "_dom_classes": [],
            "_model_module": "@jupyter-widgets/controls",
            "_model_module_version": "1.5.0",
            "_model_name": "HBoxModel",
            "_view_count": null,
            "_view_module": "@jupyter-widgets/controls",
            "_view_module_version": "1.5.0",
            "_view_name": "HBoxView",
            "box_style": "",
            "children": [
              "IPY_MODEL_956c54ea61ea4e8ab0702c404262d532",
              "IPY_MODEL_66f717fa74804061842726998423c280",
              "IPY_MODEL_4d6ed09c3d4d4720a6f620f86292bd0c"
            ],
            "layout": "IPY_MODEL_1c3fe95cae634620a6d7bec6b921324b"
          }
        },
        "956c54ea61ea4e8ab0702c404262d532": {
          "model_module": "@jupyter-widgets/controls",
          "model_name": "HTMLModel",
          "model_module_version": "1.5.0",
          "state": {
            "_dom_classes": [],
            "_model_module": "@jupyter-widgets/controls",
            "_model_module_version": "1.5.0",
            "_model_name": "HTMLModel",
            "_view_count": null,
            "_view_module": "@jupyter-widgets/controls",
            "_view_module_version": "1.5.0",
            "_view_name": "HTMLView",
            "description": "",
            "description_tooltip": null,
            "layout": "IPY_MODEL_2fbb523c5e954531bf8255c2871bc8fa",
            "placeholder": "​",
            "style": "IPY_MODEL_2f284e3708f54fa1a96e796512a0e08f",
            "value": "Generating train split: 100%"
          }
        },
        "66f717fa74804061842726998423c280": {
          "model_module": "@jupyter-widgets/controls",
          "model_name": "FloatProgressModel",
          "model_module_version": "1.5.0",
          "state": {
            "_dom_classes": [],
            "_model_module": "@jupyter-widgets/controls",
            "_model_module_version": "1.5.0",
            "_model_name": "FloatProgressModel",
            "_view_count": null,
            "_view_module": "@jupyter-widgets/controls",
            "_view_module_version": "1.5.0",
            "_view_name": "ProgressView",
            "bar_style": "success",
            "description": "",
            "description_tooltip": null,
            "layout": "IPY_MODEL_dcb6583dcbb04611aac969628b6f3434",
            "max": 2000,
            "min": 0,
            "orientation": "horizontal",
            "style": "IPY_MODEL_b35f6a58182f4c99ac4c4b1da552fab6",
            "value": 2000
          }
        },
        "4d6ed09c3d4d4720a6f620f86292bd0c": {
          "model_module": "@jupyter-widgets/controls",
          "model_name": "HTMLModel",
          "model_module_version": "1.5.0",
          "state": {
            "_dom_classes": [],
            "_model_module": "@jupyter-widgets/controls",
            "_model_module_version": "1.5.0",
            "_model_name": "HTMLModel",
            "_view_count": null,
            "_view_module": "@jupyter-widgets/controls",
            "_view_module_version": "1.5.0",
            "_view_name": "HTMLView",
            "description": "",
            "description_tooltip": null,
            "layout": "IPY_MODEL_c23352a5bec640ee9bfb7202e500b969",
            "placeholder": "​",
            "style": "IPY_MODEL_be1936588f5b457da5eb7d9d7aa019f5",
            "value": " 2000/2000 [00:00&lt;00:00, 39209.91 examples/s]"
          }
        },
        "1c3fe95cae634620a6d7bec6b921324b": {
          "model_module": "@jupyter-widgets/base",
          "model_name": "LayoutModel",
          "model_module_version": "1.2.0",
          "state": {
            "_model_module": "@jupyter-widgets/base",
            "_model_module_version": "1.2.0",
            "_model_name": "LayoutModel",
            "_view_count": null,
            "_view_module": "@jupyter-widgets/base",
            "_view_module_version": "1.2.0",
            "_view_name": "LayoutView",
            "align_content": null,
            "align_items": null,
            "align_self": null,
            "border": null,
            "bottom": null,
            "display": null,
            "flex": null,
            "flex_flow": null,
            "grid_area": null,
            "grid_auto_columns": null,
            "grid_auto_flow": null,
            "grid_auto_rows": null,
            "grid_column": null,
            "grid_gap": null,
            "grid_row": null,
            "grid_template_areas": null,
            "grid_template_columns": null,
            "grid_template_rows": null,
            "height": null,
            "justify_content": null,
            "justify_items": null,
            "left": null,
            "margin": null,
            "max_height": null,
            "max_width": null,
            "min_height": null,
            "min_width": null,
            "object_fit": null,
            "object_position": null,
            "order": null,
            "overflow": null,
            "overflow_x": null,
            "overflow_y": null,
            "padding": null,
            "right": null,
            "top": null,
            "visibility": null,
            "width": null
          }
        },
        "2fbb523c5e954531bf8255c2871bc8fa": {
          "model_module": "@jupyter-widgets/base",
          "model_name": "LayoutModel",
          "model_module_version": "1.2.0",
          "state": {
            "_model_module": "@jupyter-widgets/base",
            "_model_module_version": "1.2.0",
            "_model_name": "LayoutModel",
            "_view_count": null,
            "_view_module": "@jupyter-widgets/base",
            "_view_module_version": "1.2.0",
            "_view_name": "LayoutView",
            "align_content": null,
            "align_items": null,
            "align_self": null,
            "border": null,
            "bottom": null,
            "display": null,
            "flex": null,
            "flex_flow": null,
            "grid_area": null,
            "grid_auto_columns": null,
            "grid_auto_flow": null,
            "grid_auto_rows": null,
            "grid_column": null,
            "grid_gap": null,
            "grid_row": null,
            "grid_template_areas": null,
            "grid_template_columns": null,
            "grid_template_rows": null,
            "height": null,
            "justify_content": null,
            "justify_items": null,
            "left": null,
            "margin": null,
            "max_height": null,
            "max_width": null,
            "min_height": null,
            "min_width": null,
            "object_fit": null,
            "object_position": null,
            "order": null,
            "overflow": null,
            "overflow_x": null,
            "overflow_y": null,
            "padding": null,
            "right": null,
            "top": null,
            "visibility": null,
            "width": null
          }
        },
        "2f284e3708f54fa1a96e796512a0e08f": {
          "model_module": "@jupyter-widgets/controls",
          "model_name": "DescriptionStyleModel",
          "model_module_version": "1.5.0",
          "state": {
            "_model_module": "@jupyter-widgets/controls",
            "_model_module_version": "1.5.0",
            "_model_name": "DescriptionStyleModel",
            "_view_count": null,
            "_view_module": "@jupyter-widgets/base",
            "_view_module_version": "1.2.0",
            "_view_name": "StyleView",
            "description_width": ""
          }
        },
        "dcb6583dcbb04611aac969628b6f3434": {
          "model_module": "@jupyter-widgets/base",
          "model_name": "LayoutModel",
          "model_module_version": "1.2.0",
          "state": {
            "_model_module": "@jupyter-widgets/base",
            "_model_module_version": "1.2.0",
            "_model_name": "LayoutModel",
            "_view_count": null,
            "_view_module": "@jupyter-widgets/base",
            "_view_module_version": "1.2.0",
            "_view_name": "LayoutView",
            "align_content": null,
            "align_items": null,
            "align_self": null,
            "border": null,
            "bottom": null,
            "display": null,
            "flex": null,
            "flex_flow": null,
            "grid_area": null,
            "grid_auto_columns": null,
            "grid_auto_flow": null,
            "grid_auto_rows": null,
            "grid_column": null,
            "grid_gap": null,
            "grid_row": null,
            "grid_template_areas": null,
            "grid_template_columns": null,
            "grid_template_rows": null,
            "height": null,
            "justify_content": null,
            "justify_items": null,
            "left": null,
            "margin": null,
            "max_height": null,
            "max_width": null,
            "min_height": null,
            "min_width": null,
            "object_fit": null,
            "object_position": null,
            "order": null,
            "overflow": null,
            "overflow_x": null,
            "overflow_y": null,
            "padding": null,
            "right": null,
            "top": null,
            "visibility": null,
            "width": null
          }
        },
        "b35f6a58182f4c99ac4c4b1da552fab6": {
          "model_module": "@jupyter-widgets/controls",
          "model_name": "ProgressStyleModel",
          "model_module_version": "1.5.0",
          "state": {
            "_model_module": "@jupyter-widgets/controls",
            "_model_module_version": "1.5.0",
            "_model_name": "ProgressStyleModel",
            "_view_count": null,
            "_view_module": "@jupyter-widgets/base",
            "_view_module_version": "1.2.0",
            "_view_name": "StyleView",
            "bar_color": null,
            "description_width": ""
          }
        },
        "c23352a5bec640ee9bfb7202e500b969": {
          "model_module": "@jupyter-widgets/base",
          "model_name": "LayoutModel",
          "model_module_version": "1.2.0",
          "state": {
            "_model_module": "@jupyter-widgets/base",
            "_model_module_version": "1.2.0",
            "_model_name": "LayoutModel",
            "_view_count": null,
            "_view_module": "@jupyter-widgets/base",
            "_view_module_version": "1.2.0",
            "_view_name": "LayoutView",
            "align_content": null,
            "align_items": null,
            "align_self": null,
            "border": null,
            "bottom": null,
            "display": null,
            "flex": null,
            "flex_flow": null,
            "grid_area": null,
            "grid_auto_columns": null,
            "grid_auto_flow": null,
            "grid_auto_rows": null,
            "grid_column": null,
            "grid_gap": null,
            "grid_row": null,
            "grid_template_areas": null,
            "grid_template_columns": null,
            "grid_template_rows": null,
            "height": null,
            "justify_content": null,
            "justify_items": null,
            "left": null,
            "margin": null,
            "max_height": null,
            "max_width": null,
            "min_height": null,
            "min_width": null,
            "object_fit": null,
            "object_position": null,
            "order": null,
            "overflow": null,
            "overflow_x": null,
            "overflow_y": null,
            "padding": null,
            "right": null,
            "top": null,
            "visibility": null,
            "width": null
          }
        },
        "be1936588f5b457da5eb7d9d7aa019f5": {
          "model_module": "@jupyter-widgets/controls",
          "model_name": "DescriptionStyleModel",
          "model_module_version": "1.5.0",
          "state": {
            "_model_module": "@jupyter-widgets/controls",
            "_model_module_version": "1.5.0",
            "_model_name": "DescriptionStyleModel",
            "_view_count": null,
            "_view_module": "@jupyter-widgets/base",
            "_view_module_version": "1.2.0",
            "_view_name": "StyleView",
            "description_width": ""
          }
        },
        "f3f551138528466aaad532ccf3d09382": {
          "model_module": "@jupyter-widgets/controls",
          "model_name": "HBoxModel",
          "model_module_version": "1.5.0",
          "state": {
            "_dom_classes": [],
            "_model_module": "@jupyter-widgets/controls",
            "_model_module_version": "1.5.0",
            "_model_name": "HBoxModel",
            "_view_count": null,
            "_view_module": "@jupyter-widgets/controls",
            "_view_module_version": "1.5.0",
            "_view_name": "HBoxView",
            "box_style": "",
            "children": [
              "IPY_MODEL_dafdf62a0b6c4fdeb17e1a62da738b2a",
              "IPY_MODEL_87076fcf27954728bec6bcb6672875d6",
              "IPY_MODEL_c870fd7eca414765a77b3110c743fd4d"
            ],
            "layout": "IPY_MODEL_3945c1383e1549a5936555f892915c07"
          }
        },
        "dafdf62a0b6c4fdeb17e1a62da738b2a": {
          "model_module": "@jupyter-widgets/controls",
          "model_name": "HTMLModel",
          "model_module_version": "1.5.0",
          "state": {
            "_dom_classes": [],
            "_model_module": "@jupyter-widgets/controls",
            "_model_module_version": "1.5.0",
            "_model_name": "HTMLModel",
            "_view_count": null,
            "_view_module": "@jupyter-widgets/controls",
            "_view_module_version": "1.5.0",
            "_view_name": "HTMLView",
            "description": "",
            "description_tooltip": null,
            "layout": "IPY_MODEL_08cedd5bfd474bc39bfd5dbb959ea63b",
            "placeholder": "​",
            "style": "IPY_MODEL_0ef2a25e8af9423fb313d7278a88d0bc",
            "value": "Map: 100%"
          }
        },
        "87076fcf27954728bec6bcb6672875d6": {
          "model_module": "@jupyter-widgets/controls",
          "model_name": "FloatProgressModel",
          "model_module_version": "1.5.0",
          "state": {
            "_dom_classes": [],
            "_model_module": "@jupyter-widgets/controls",
            "_model_module_version": "1.5.0",
            "_model_name": "FloatProgressModel",
            "_view_count": null,
            "_view_module": "@jupyter-widgets/controls",
            "_view_module_version": "1.5.0",
            "_view_name": "ProgressView",
            "bar_style": "success",
            "description": "",
            "description_tooltip": null,
            "layout": "IPY_MODEL_40896598cd4448f793ad20ba7a085325",
            "max": 2000,
            "min": 0,
            "orientation": "horizontal",
            "style": "IPY_MODEL_002fb0defdb44589be7bd0ca0eebe94f",
            "value": 2000
          }
        },
        "c870fd7eca414765a77b3110c743fd4d": {
          "model_module": "@jupyter-widgets/controls",
          "model_name": "HTMLModel",
          "model_module_version": "1.5.0",
          "state": {
            "_dom_classes": [],
            "_model_module": "@jupyter-widgets/controls",
            "_model_module_version": "1.5.0",
            "_model_name": "HTMLModel",
            "_view_count": null,
            "_view_module": "@jupyter-widgets/controls",
            "_view_module_version": "1.5.0",
            "_view_name": "HTMLView",
            "description": "",
            "description_tooltip": null,
            "layout": "IPY_MODEL_5a1cbd599922479784ec74a339161438",
            "placeholder": "​",
            "style": "IPY_MODEL_08a36d19e5174cbe9192a549c0212fb7",
            "value": " 2000/2000 [00:04&lt;00:00, 516.60 examples/s]"
          }
        },
        "3945c1383e1549a5936555f892915c07": {
          "model_module": "@jupyter-widgets/base",
          "model_name": "LayoutModel",
          "model_module_version": "1.2.0",
          "state": {
            "_model_module": "@jupyter-widgets/base",
            "_model_module_version": "1.2.0",
            "_model_name": "LayoutModel",
            "_view_count": null,
            "_view_module": "@jupyter-widgets/base",
            "_view_module_version": "1.2.0",
            "_view_name": "LayoutView",
            "align_content": null,
            "align_items": null,
            "align_self": null,
            "border": null,
            "bottom": null,
            "display": null,
            "flex": null,
            "flex_flow": null,
            "grid_area": null,
            "grid_auto_columns": null,
            "grid_auto_flow": null,
            "grid_auto_rows": null,
            "grid_column": null,
            "grid_gap": null,
            "grid_row": null,
            "grid_template_areas": null,
            "grid_template_columns": null,
            "grid_template_rows": null,
            "height": null,
            "justify_content": null,
            "justify_items": null,
            "left": null,
            "margin": null,
            "max_height": null,
            "max_width": null,
            "min_height": null,
            "min_width": null,
            "object_fit": null,
            "object_position": null,
            "order": null,
            "overflow": null,
            "overflow_x": null,
            "overflow_y": null,
            "padding": null,
            "right": null,
            "top": null,
            "visibility": null,
            "width": null
          }
        },
        "08cedd5bfd474bc39bfd5dbb959ea63b": {
          "model_module": "@jupyter-widgets/base",
          "model_name": "LayoutModel",
          "model_module_version": "1.2.0",
          "state": {
            "_model_module": "@jupyter-widgets/base",
            "_model_module_version": "1.2.0",
            "_model_name": "LayoutModel",
            "_view_count": null,
            "_view_module": "@jupyter-widgets/base",
            "_view_module_version": "1.2.0",
            "_view_name": "LayoutView",
            "align_content": null,
            "align_items": null,
            "align_self": null,
            "border": null,
            "bottom": null,
            "display": null,
            "flex": null,
            "flex_flow": null,
            "grid_area": null,
            "grid_auto_columns": null,
            "grid_auto_flow": null,
            "grid_auto_rows": null,
            "grid_column": null,
            "grid_gap": null,
            "grid_row": null,
            "grid_template_areas": null,
            "grid_template_columns": null,
            "grid_template_rows": null,
            "height": null,
            "justify_content": null,
            "justify_items": null,
            "left": null,
            "margin": null,
            "max_height": null,
            "max_width": null,
            "min_height": null,
            "min_width": null,
            "object_fit": null,
            "object_position": null,
            "order": null,
            "overflow": null,
            "overflow_x": null,
            "overflow_y": null,
            "padding": null,
            "right": null,
            "top": null,
            "visibility": null,
            "width": null
          }
        },
        "0ef2a25e8af9423fb313d7278a88d0bc": {
          "model_module": "@jupyter-widgets/controls",
          "model_name": "DescriptionStyleModel",
          "model_module_version": "1.5.0",
          "state": {
            "_model_module": "@jupyter-widgets/controls",
            "_model_module_version": "1.5.0",
            "_model_name": "DescriptionStyleModel",
            "_view_count": null,
            "_view_module": "@jupyter-widgets/base",
            "_view_module_version": "1.2.0",
            "_view_name": "StyleView",
            "description_width": ""
          }
        },
        "40896598cd4448f793ad20ba7a085325": {
          "model_module": "@jupyter-widgets/base",
          "model_name": "LayoutModel",
          "model_module_version": "1.2.0",
          "state": {
            "_model_module": "@jupyter-widgets/base",
            "_model_module_version": "1.2.0",
            "_model_name": "LayoutModel",
            "_view_count": null,
            "_view_module": "@jupyter-widgets/base",
            "_view_module_version": "1.2.0",
            "_view_name": "LayoutView",
            "align_content": null,
            "align_items": null,
            "align_self": null,
            "border": null,
            "bottom": null,
            "display": null,
            "flex": null,
            "flex_flow": null,
            "grid_area": null,
            "grid_auto_columns": null,
            "grid_auto_flow": null,
            "grid_auto_rows": null,
            "grid_column": null,
            "grid_gap": null,
            "grid_row": null,
            "grid_template_areas": null,
            "grid_template_columns": null,
            "grid_template_rows": null,
            "height": null,
            "justify_content": null,
            "justify_items": null,
            "left": null,
            "margin": null,
            "max_height": null,
            "max_width": null,
            "min_height": null,
            "min_width": null,
            "object_fit": null,
            "object_position": null,
            "order": null,
            "overflow": null,
            "overflow_x": null,
            "overflow_y": null,
            "padding": null,
            "right": null,
            "top": null,
            "visibility": null,
            "width": null
          }
        },
        "002fb0defdb44589be7bd0ca0eebe94f": {
          "model_module": "@jupyter-widgets/controls",
          "model_name": "ProgressStyleModel",
          "model_module_version": "1.5.0",
          "state": {
            "_model_module": "@jupyter-widgets/controls",
            "_model_module_version": "1.5.0",
            "_model_name": "ProgressStyleModel",
            "_view_count": null,
            "_view_module": "@jupyter-widgets/base",
            "_view_module_version": "1.2.0",
            "_view_name": "StyleView",
            "bar_color": null,
            "description_width": ""
          }
        },
        "5a1cbd599922479784ec74a339161438": {
          "model_module": "@jupyter-widgets/base",
          "model_name": "LayoutModel",
          "model_module_version": "1.2.0",
          "state": {
            "_model_module": "@jupyter-widgets/base",
            "_model_module_version": "1.2.0",
            "_model_name": "LayoutModel",
            "_view_count": null,
            "_view_module": "@jupyter-widgets/base",
            "_view_module_version": "1.2.0",
            "_view_name": "LayoutView",
            "align_content": null,
            "align_items": null,
            "align_self": null,
            "border": null,
            "bottom": null,
            "display": null,
            "flex": null,
            "flex_flow": null,
            "grid_area": null,
            "grid_auto_columns": null,
            "grid_auto_flow": null,
            "grid_auto_rows": null,
            "grid_column": null,
            "grid_gap": null,
            "grid_row": null,
            "grid_template_areas": null,
            "grid_template_columns": null,
            "grid_template_rows": null,
            "height": null,
            "justify_content": null,
            "justify_items": null,
            "left": null,
            "margin": null,
            "max_height": null,
            "max_width": null,
            "min_height": null,
            "min_width": null,
            "object_fit": null,
            "object_position": null,
            "order": null,
            "overflow": null,
            "overflow_x": null,
            "overflow_y": null,
            "padding": null,
            "right": null,
            "top": null,
            "visibility": null,
            "width": null
          }
        },
        "08a36d19e5174cbe9192a549c0212fb7": {
          "model_module": "@jupyter-widgets/controls",
          "model_name": "DescriptionStyleModel",
          "model_module_version": "1.5.0",
          "state": {
            "_model_module": "@jupyter-widgets/controls",
            "_model_module_version": "1.5.0",
            "_model_name": "DescriptionStyleModel",
            "_view_count": null,
            "_view_module": "@jupyter-widgets/base",
            "_view_module_version": "1.2.0",
            "_view_name": "StyleView",
            "description_width": ""
          }
        },
        "1a5c7c70b7954c6ea55673c18eb61ba7": {
          "model_module": "@jupyter-widgets/controls",
          "model_name": "HBoxModel",
          "model_module_version": "1.5.0",
          "state": {
            "_dom_classes": [],
            "_model_module": "@jupyter-widgets/controls",
            "_model_module_version": "1.5.0",
            "_model_name": "HBoxModel",
            "_view_count": null,
            "_view_module": "@jupyter-widgets/controls",
            "_view_module_version": "1.5.0",
            "_view_name": "HBoxView",
            "box_style": "",
            "children": [
              "IPY_MODEL_ba1885c6a405400f91f6c94a1983417e",
              "IPY_MODEL_ffbddbdbf39440dd9aeeb65b099a7eac",
              "IPY_MODEL_53eff6d7b12f4e00aa478ebe7b40b880"
            ],
            "layout": "IPY_MODEL_01386607e18441e08265ed3844c78dd6"
          }
        },
        "ba1885c6a405400f91f6c94a1983417e": {
          "model_module": "@jupyter-widgets/controls",
          "model_name": "HTMLModel",
          "model_module_version": "1.5.0",
          "state": {
            "_dom_classes": [],
            "_model_module": "@jupyter-widgets/controls",
            "_model_module_version": "1.5.0",
            "_model_name": "HTMLModel",
            "_view_count": null,
            "_view_module": "@jupyter-widgets/controls",
            "_view_module_version": "1.5.0",
            "_view_name": "HTMLView",
            "description": "",
            "description_tooltip": null,
            "layout": "IPY_MODEL_087b8e5f459c418cb570607e3c64aea5",
            "placeholder": "​",
            "style": "IPY_MODEL_335a159e426c4b77b191ac8e7e92ee55",
            "value": "config.json: 100%"
          }
        },
        "ffbddbdbf39440dd9aeeb65b099a7eac": {
          "model_module": "@jupyter-widgets/controls",
          "model_name": "FloatProgressModel",
          "model_module_version": "1.5.0",
          "state": {
            "_dom_classes": [],
            "_model_module": "@jupyter-widgets/controls",
            "_model_module_version": "1.5.0",
            "_model_name": "FloatProgressModel",
            "_view_count": null,
            "_view_module": "@jupyter-widgets/controls",
            "_view_module_version": "1.5.0",
            "_view_name": "ProgressView",
            "bar_style": "success",
            "description": "",
            "description_tooltip": null,
            "layout": "IPY_MODEL_74846c70132a4b6e9e0a3eb873a8f871",
            "max": 570,
            "min": 0,
            "orientation": "horizontal",
            "style": "IPY_MODEL_e4e63970cb7b43d3b264eeac91fbfc24",
            "value": 570
          }
        },
        "53eff6d7b12f4e00aa478ebe7b40b880": {
          "model_module": "@jupyter-widgets/controls",
          "model_name": "HTMLModel",
          "model_module_version": "1.5.0",
          "state": {
            "_dom_classes": [],
            "_model_module": "@jupyter-widgets/controls",
            "_model_module_version": "1.5.0",
            "_model_name": "HTMLModel",
            "_view_count": null,
            "_view_module": "@jupyter-widgets/controls",
            "_view_module_version": "1.5.0",
            "_view_name": "HTMLView",
            "description": "",
            "description_tooltip": null,
            "layout": "IPY_MODEL_e88898e021a74e4c8fa4c56fa965613c",
            "placeholder": "​",
            "style": "IPY_MODEL_7d100f1358004edc8086b271cd13f809",
            "value": " 570/570 [00:00&lt;00:00, 37.6kB/s]"
          }
        },
        "01386607e18441e08265ed3844c78dd6": {
          "model_module": "@jupyter-widgets/base",
          "model_name": "LayoutModel",
          "model_module_version": "1.2.0",
          "state": {
            "_model_module": "@jupyter-widgets/base",
            "_model_module_version": "1.2.0",
            "_model_name": "LayoutModel",
            "_view_count": null,
            "_view_module": "@jupyter-widgets/base",
            "_view_module_version": "1.2.0",
            "_view_name": "LayoutView",
            "align_content": null,
            "align_items": null,
            "align_self": null,
            "border": null,
            "bottom": null,
            "display": null,
            "flex": null,
            "flex_flow": null,
            "grid_area": null,
            "grid_auto_columns": null,
            "grid_auto_flow": null,
            "grid_auto_rows": null,
            "grid_column": null,
            "grid_gap": null,
            "grid_row": null,
            "grid_template_areas": null,
            "grid_template_columns": null,
            "grid_template_rows": null,
            "height": null,
            "justify_content": null,
            "justify_items": null,
            "left": null,
            "margin": null,
            "max_height": null,
            "max_width": null,
            "min_height": null,
            "min_width": null,
            "object_fit": null,
            "object_position": null,
            "order": null,
            "overflow": null,
            "overflow_x": null,
            "overflow_y": null,
            "padding": null,
            "right": null,
            "top": null,
            "visibility": null,
            "width": null
          }
        },
        "087b8e5f459c418cb570607e3c64aea5": {
          "model_module": "@jupyter-widgets/base",
          "model_name": "LayoutModel",
          "model_module_version": "1.2.0",
          "state": {
            "_model_module": "@jupyter-widgets/base",
            "_model_module_version": "1.2.0",
            "_model_name": "LayoutModel",
            "_view_count": null,
            "_view_module": "@jupyter-widgets/base",
            "_view_module_version": "1.2.0",
            "_view_name": "LayoutView",
            "align_content": null,
            "align_items": null,
            "align_self": null,
            "border": null,
            "bottom": null,
            "display": null,
            "flex": null,
            "flex_flow": null,
            "grid_area": null,
            "grid_auto_columns": null,
            "grid_auto_flow": null,
            "grid_auto_rows": null,
            "grid_column": null,
            "grid_gap": null,
            "grid_row": null,
            "grid_template_areas": null,
            "grid_template_columns": null,
            "grid_template_rows": null,
            "height": null,
            "justify_content": null,
            "justify_items": null,
            "left": null,
            "margin": null,
            "max_height": null,
            "max_width": null,
            "min_height": null,
            "min_width": null,
            "object_fit": null,
            "object_position": null,
            "order": null,
            "overflow": null,
            "overflow_x": null,
            "overflow_y": null,
            "padding": null,
            "right": null,
            "top": null,
            "visibility": null,
            "width": null
          }
        },
        "335a159e426c4b77b191ac8e7e92ee55": {
          "model_module": "@jupyter-widgets/controls",
          "model_name": "DescriptionStyleModel",
          "model_module_version": "1.5.0",
          "state": {
            "_model_module": "@jupyter-widgets/controls",
            "_model_module_version": "1.5.0",
            "_model_name": "DescriptionStyleModel",
            "_view_count": null,
            "_view_module": "@jupyter-widgets/base",
            "_view_module_version": "1.2.0",
            "_view_name": "StyleView",
            "description_width": ""
          }
        },
        "74846c70132a4b6e9e0a3eb873a8f871": {
          "model_module": "@jupyter-widgets/base",
          "model_name": "LayoutModel",
          "model_module_version": "1.2.0",
          "state": {
            "_model_module": "@jupyter-widgets/base",
            "_model_module_version": "1.2.0",
            "_model_name": "LayoutModel",
            "_view_count": null,
            "_view_module": "@jupyter-widgets/base",
            "_view_module_version": "1.2.0",
            "_view_name": "LayoutView",
            "align_content": null,
            "align_items": null,
            "align_self": null,
            "border": null,
            "bottom": null,
            "display": null,
            "flex": null,
            "flex_flow": null,
            "grid_area": null,
            "grid_auto_columns": null,
            "grid_auto_flow": null,
            "grid_auto_rows": null,
            "grid_column": null,
            "grid_gap": null,
            "grid_row": null,
            "grid_template_areas": null,
            "grid_template_columns": null,
            "grid_template_rows": null,
            "height": null,
            "justify_content": null,
            "justify_items": null,
            "left": null,
            "margin": null,
            "max_height": null,
            "max_width": null,
            "min_height": null,
            "min_width": null,
            "object_fit": null,
            "object_position": null,
            "order": null,
            "overflow": null,
            "overflow_x": null,
            "overflow_y": null,
            "padding": null,
            "right": null,
            "top": null,
            "visibility": null,
            "width": null
          }
        },
        "e4e63970cb7b43d3b264eeac91fbfc24": {
          "model_module": "@jupyter-widgets/controls",
          "model_name": "ProgressStyleModel",
          "model_module_version": "1.5.0",
          "state": {
            "_model_module": "@jupyter-widgets/controls",
            "_model_module_version": "1.5.0",
            "_model_name": "ProgressStyleModel",
            "_view_count": null,
            "_view_module": "@jupyter-widgets/base",
            "_view_module_version": "1.2.0",
            "_view_name": "StyleView",
            "bar_color": null,
            "description_width": ""
          }
        },
        "e88898e021a74e4c8fa4c56fa965613c": {
          "model_module": "@jupyter-widgets/base",
          "model_name": "LayoutModel",
          "model_module_version": "1.2.0",
          "state": {
            "_model_module": "@jupyter-widgets/base",
            "_model_module_version": "1.2.0",
            "_model_name": "LayoutModel",
            "_view_count": null,
            "_view_module": "@jupyter-widgets/base",
            "_view_module_version": "1.2.0",
            "_view_name": "LayoutView",
            "align_content": null,
            "align_items": null,
            "align_self": null,
            "border": null,
            "bottom": null,
            "display": null,
            "flex": null,
            "flex_flow": null,
            "grid_area": null,
            "grid_auto_columns": null,
            "grid_auto_flow": null,
            "grid_auto_rows": null,
            "grid_column": null,
            "grid_gap": null,
            "grid_row": null,
            "grid_template_areas": null,
            "grid_template_columns": null,
            "grid_template_rows": null,
            "height": null,
            "justify_content": null,
            "justify_items": null,
            "left": null,
            "margin": null,
            "max_height": null,
            "max_width": null,
            "min_height": null,
            "min_width": null,
            "object_fit": null,
            "object_position": null,
            "order": null,
            "overflow": null,
            "overflow_x": null,
            "overflow_y": null,
            "padding": null,
            "right": null,
            "top": null,
            "visibility": null,
            "width": null
          }
        },
        "7d100f1358004edc8086b271cd13f809": {
          "model_module": "@jupyter-widgets/controls",
          "model_name": "DescriptionStyleModel",
          "model_module_version": "1.5.0",
          "state": {
            "_model_module": "@jupyter-widgets/controls",
            "_model_module_version": "1.5.0",
            "_model_name": "DescriptionStyleModel",
            "_view_count": null,
            "_view_module": "@jupyter-widgets/base",
            "_view_module_version": "1.2.0",
            "_view_name": "StyleView",
            "description_width": ""
          }
        },
        "7a938fccf28c4e428c8cba3efa0d7458": {
          "model_module": "@jupyter-widgets/controls",
          "model_name": "HBoxModel",
          "model_module_version": "1.5.0",
          "state": {
            "_dom_classes": [],
            "_model_module": "@jupyter-widgets/controls",
            "_model_module_version": "1.5.0",
            "_model_name": "HBoxModel",
            "_view_count": null,
            "_view_module": "@jupyter-widgets/controls",
            "_view_module_version": "1.5.0",
            "_view_name": "HBoxView",
            "box_style": "",
            "children": [
              "IPY_MODEL_0b352df74c6e44fd973353b262047c83",
              "IPY_MODEL_4b8dd4ce15214e41a58ca614aeb373d9",
              "IPY_MODEL_cabe949faabd42b7b48ed9eca44e617f"
            ],
            "layout": "IPY_MODEL_c6e07a1d57a5485c80b6dfee09a0f0ec"
          }
        },
        "0b352df74c6e44fd973353b262047c83": {
          "model_module": "@jupyter-widgets/controls",
          "model_name": "HTMLModel",
          "model_module_version": "1.5.0",
          "state": {
            "_dom_classes": [],
            "_model_module": "@jupyter-widgets/controls",
            "_model_module_version": "1.5.0",
            "_model_name": "HTMLModel",
            "_view_count": null,
            "_view_module": "@jupyter-widgets/controls",
            "_view_module_version": "1.5.0",
            "_view_name": "HTMLView",
            "description": "",
            "description_tooltip": null,
            "layout": "IPY_MODEL_cd6e12a2b97d43818f4de6e64e1829eb",
            "placeholder": "​",
            "style": "IPY_MODEL_41bcca6c041f4de197aa796ece5ebefd",
            "value": "model.safetensors: 100%"
          }
        },
        "4b8dd4ce15214e41a58ca614aeb373d9": {
          "model_module": "@jupyter-widgets/controls",
          "model_name": "FloatProgressModel",
          "model_module_version": "1.5.0",
          "state": {
            "_dom_classes": [],
            "_model_module": "@jupyter-widgets/controls",
            "_model_module_version": "1.5.0",
            "_model_name": "FloatProgressModel",
            "_view_count": null,
            "_view_module": "@jupyter-widgets/controls",
            "_view_module_version": "1.5.0",
            "_view_name": "ProgressView",
            "bar_style": "success",
            "description": "",
            "description_tooltip": null,
            "layout": "IPY_MODEL_77765db38ff245b28d8c848344390819",
            "max": 911373632,
            "min": 0,
            "orientation": "horizontal",
            "style": "IPY_MODEL_562fe95558e74e7ba7b7370c282519a7",
            "value": 911373632
          }
        },
        "cabe949faabd42b7b48ed9eca44e617f": {
          "model_module": "@jupyter-widgets/controls",
          "model_name": "HTMLModel",
          "model_module_version": "1.5.0",
          "state": {
            "_dom_classes": [],
            "_model_module": "@jupyter-widgets/controls",
            "_model_module_version": "1.5.0",
            "_model_name": "HTMLModel",
            "_view_count": null,
            "_view_module": "@jupyter-widgets/controls",
            "_view_module_version": "1.5.0",
            "_view_name": "HTMLView",
            "description": "",
            "description_tooltip": null,
            "layout": "IPY_MODEL_3a48939dff5e4ce5b4904a0780dadc34",
            "placeholder": "​",
            "style": "IPY_MODEL_4d14b9dc791f44f39fb22046ff6e32c6",
            "value": " 911M/911M [00:16&lt;00:00, 53.8MB/s]"
          }
        },
        "c6e07a1d57a5485c80b6dfee09a0f0ec": {
          "model_module": "@jupyter-widgets/base",
          "model_name": "LayoutModel",
          "model_module_version": "1.2.0",
          "state": {
            "_model_module": "@jupyter-widgets/base",
            "_model_module_version": "1.2.0",
            "_model_name": "LayoutModel",
            "_view_count": null,
            "_view_module": "@jupyter-widgets/base",
            "_view_module_version": "1.2.0",
            "_view_name": "LayoutView",
            "align_content": null,
            "align_items": null,
            "align_self": null,
            "border": null,
            "bottom": null,
            "display": null,
            "flex": null,
            "flex_flow": null,
            "grid_area": null,
            "grid_auto_columns": null,
            "grid_auto_flow": null,
            "grid_auto_rows": null,
            "grid_column": null,
            "grid_gap": null,
            "grid_row": null,
            "grid_template_areas": null,
            "grid_template_columns": null,
            "grid_template_rows": null,
            "height": null,
            "justify_content": null,
            "justify_items": null,
            "left": null,
            "margin": null,
            "max_height": null,
            "max_width": null,
            "min_height": null,
            "min_width": null,
            "object_fit": null,
            "object_position": null,
            "order": null,
            "overflow": null,
            "overflow_x": null,
            "overflow_y": null,
            "padding": null,
            "right": null,
            "top": null,
            "visibility": null,
            "width": null
          }
        },
        "cd6e12a2b97d43818f4de6e64e1829eb": {
          "model_module": "@jupyter-widgets/base",
          "model_name": "LayoutModel",
          "model_module_version": "1.2.0",
          "state": {
            "_model_module": "@jupyter-widgets/base",
            "_model_module_version": "1.2.0",
            "_model_name": "LayoutModel",
            "_view_count": null,
            "_view_module": "@jupyter-widgets/base",
            "_view_module_version": "1.2.0",
            "_view_name": "LayoutView",
            "align_content": null,
            "align_items": null,
            "align_self": null,
            "border": null,
            "bottom": null,
            "display": null,
            "flex": null,
            "flex_flow": null,
            "grid_area": null,
            "grid_auto_columns": null,
            "grid_auto_flow": null,
            "grid_auto_rows": null,
            "grid_column": null,
            "grid_gap": null,
            "grid_row": null,
            "grid_template_areas": null,
            "grid_template_columns": null,
            "grid_template_rows": null,
            "height": null,
            "justify_content": null,
            "justify_items": null,
            "left": null,
            "margin": null,
            "max_height": null,
            "max_width": null,
            "min_height": null,
            "min_width": null,
            "object_fit": null,
            "object_position": null,
            "order": null,
            "overflow": null,
            "overflow_x": null,
            "overflow_y": null,
            "padding": null,
            "right": null,
            "top": null,
            "visibility": null,
            "width": null
          }
        },
        "41bcca6c041f4de197aa796ece5ebefd": {
          "model_module": "@jupyter-widgets/controls",
          "model_name": "DescriptionStyleModel",
          "model_module_version": "1.5.0",
          "state": {
            "_model_module": "@jupyter-widgets/controls",
            "_model_module_version": "1.5.0",
            "_model_name": "DescriptionStyleModel",
            "_view_count": null,
            "_view_module": "@jupyter-widgets/base",
            "_view_module_version": "1.2.0",
            "_view_name": "StyleView",
            "description_width": ""
          }
        },
        "77765db38ff245b28d8c848344390819": {
          "model_module": "@jupyter-widgets/base",
          "model_name": "LayoutModel",
          "model_module_version": "1.2.0",
          "state": {
            "_model_module": "@jupyter-widgets/base",
            "_model_module_version": "1.2.0",
            "_model_name": "LayoutModel",
            "_view_count": null,
            "_view_module": "@jupyter-widgets/base",
            "_view_module_version": "1.2.0",
            "_view_name": "LayoutView",
            "align_content": null,
            "align_items": null,
            "align_self": null,
            "border": null,
            "bottom": null,
            "display": null,
            "flex": null,
            "flex_flow": null,
            "grid_area": null,
            "grid_auto_columns": null,
            "grid_auto_flow": null,
            "grid_auto_rows": null,
            "grid_column": null,
            "grid_gap": null,
            "grid_row": null,
            "grid_template_areas": null,
            "grid_template_columns": null,
            "grid_template_rows": null,
            "height": null,
            "justify_content": null,
            "justify_items": null,
            "left": null,
            "margin": null,
            "max_height": null,
            "max_width": null,
            "min_height": null,
            "min_width": null,
            "object_fit": null,
            "object_position": null,
            "order": null,
            "overflow": null,
            "overflow_x": null,
            "overflow_y": null,
            "padding": null,
            "right": null,
            "top": null,
            "visibility": null,
            "width": null
          }
        },
        "562fe95558e74e7ba7b7370c282519a7": {
          "model_module": "@jupyter-widgets/controls",
          "model_name": "ProgressStyleModel",
          "model_module_version": "1.5.0",
          "state": {
            "_model_module": "@jupyter-widgets/controls",
            "_model_module_version": "1.5.0",
            "_model_name": "ProgressStyleModel",
            "_view_count": null,
            "_view_module": "@jupyter-widgets/base",
            "_view_module_version": "1.2.0",
            "_view_name": "StyleView",
            "bar_color": null,
            "description_width": ""
          }
        },
        "3a48939dff5e4ce5b4904a0780dadc34": {
          "model_module": "@jupyter-widgets/base",
          "model_name": "LayoutModel",
          "model_module_version": "1.2.0",
          "state": {
            "_model_module": "@jupyter-widgets/base",
            "_model_module_version": "1.2.0",
            "_model_name": "LayoutModel",
            "_view_count": null,
            "_view_module": "@jupyter-widgets/base",
            "_view_module_version": "1.2.0",
            "_view_name": "LayoutView",
            "align_content": null,
            "align_items": null,
            "align_self": null,
            "border": null,
            "bottom": null,
            "display": null,
            "flex": null,
            "flex_flow": null,
            "grid_area": null,
            "grid_auto_columns": null,
            "grid_auto_flow": null,
            "grid_auto_rows": null,
            "grid_column": null,
            "grid_gap": null,
            "grid_row": null,
            "grid_template_areas": null,
            "grid_template_columns": null,
            "grid_template_rows": null,
            "height": null,
            "justify_content": null,
            "justify_items": null,
            "left": null,
            "margin": null,
            "max_height": null,
            "max_width": null,
            "min_height": null,
            "min_width": null,
            "object_fit": null,
            "object_position": null,
            "order": null,
            "overflow": null,
            "overflow_x": null,
            "overflow_y": null,
            "padding": null,
            "right": null,
            "top": null,
            "visibility": null,
            "width": null
          }
        },
        "4d14b9dc791f44f39fb22046ff6e32c6": {
          "model_module": "@jupyter-widgets/controls",
          "model_name": "DescriptionStyleModel",
          "model_module_version": "1.5.0",
          "state": {
            "_model_module": "@jupyter-widgets/controls",
            "_model_module_version": "1.5.0",
            "_model_name": "DescriptionStyleModel",
            "_view_count": null,
            "_view_module": "@jupyter-widgets/base",
            "_view_module_version": "1.2.0",
            "_view_name": "StyleView",
            "description_width": ""
          }
        }
      }
    }
  },
  "cells": [
    {
      "cell_type": "markdown",
      "metadata": {
        "id": "view-in-github",
        "colab_type": "text"
      },
      "source": [
        "<a href=\"https://colab.research.google.com/github/dhnanjay/SEC/blob/main/finetuning_pythia_410m.ipynb\" target=\"_parent\"><img src=\"https://colab.research.google.com/assets/colab-badge.svg\" alt=\"Open In Colab\"/></a>"
      ]
    },
    {
      "cell_type": "markdown",
      "source": [
        "### 0. Installation"
      ],
      "metadata": {
        "id": "T02f6AxsNnxm"
      }
    },
    {
      "cell_type": "code",
      "source": [
        "!pip install lamini --quiet\n",
        "!pip install datasets --quiet\n",
        "!pip uninstall accelerate -y --quiet # Uninstall accelerate first\n",
        "!pip install accelerate --quiet # Explicitly install the required version\n",
        "!pip install transformers[torch] --quiet\n",
        "https://twitter.com/virattt/status/1795588298330509783"
      ],
      "metadata": {
        "id": "jKn874rLp3O3"
      },
      "execution_count": null,
      "outputs": []
    },
    {
      "cell_type": "markdown",
      "source": [],
      "metadata": {
        "id": "_w2SSU4wgQR0"
      }
    },
    {
      "cell_type": "markdown",
      "source": [
        "### 1. Define imports"
      ],
      "metadata": {
        "id": "9h0fp5Ufprxo"
      }
    },
    {
      "cell_type": "code",
      "source": [
        "import datasets\n",
        "import tempfile\n",
        "import logging\n",
        "import random\n",
        "import config\n",
        "import os\n",
        "import yaml\n",
        "import time\n",
        "import torch\n",
        "import transformers\n",
        "import pandas as pd\n",
        "import jsonlines\n",
        "import json\n",
        "\n",
        "from transformers import AutoTokenizer\n",
        "from transformers import AutoModelForCausalLM\n",
        "from transformers import TrainingArguments\n",
        "from transformers import AutoModelForCausalLM\n",
        "from llama import BasicModelRunner\n",
        "\n",
        "from datasets import load_dataset, concatenate_datasets\n",
        "\n",
        "import os\n",
        "import lamini"
      ],
      "metadata": {
        "id": "qcvTQhY1puET"
      },
      "execution_count": null,
      "outputs": []
    },
    {
      "cell_type": "markdown",
      "source": [
        "### 2. Define logging helpers"
      ],
      "metadata": {
        "id": "TPcZHz3SMhLl"
      }
    },
    {
      "cell_type": "code",
      "source": [
        "logger = logging.getLogger(__name__)\n",
        "global_config = None\n",
        "\n",
        "def initialize_config_and_logging(existing_config=None):\n",
        "    global global_config\n",
        "    global_config = build_config(existing_config)\n",
        "    setup_logging(global_config)\n",
        "    logger.debug(\"Config: \" + str(yaml.dump(global_config.as_dict())))\n",
        "    return global_config\n",
        "\n",
        "def get_config():\n",
        "    global global_config\n",
        "    assert global_config is not None\n",
        "    return global_config\n",
        "\n",
        "def build_config(existing_config=None):\n",
        "    configs = [\n",
        "        # Using config library\n",
        "        config.config_from_env(prefix=\"LLAMA\", separator=\"_\", lowercase_keys=True),\n",
        "    ]\n",
        "\n",
        "    if existing_config:\n",
        "        if isinstance(existing_config, dict):\n",
        "            configs.append(config.config_from_dict(existing_config))\n",
        "        else:\n",
        "            configs.append(existing_config)\n",
        "\n",
        "    config_paths = get_config_paths()\n",
        "\n",
        "    for path in reversed(config_paths):\n",
        "        print(\"Loading builtin config from \" + path)\n",
        "        configs.append(config.config_from_yaml(path, read_from_file=True))\n",
        "\n",
        "    return config.ConfigurationSet(*configs)\n",
        "\n",
        "def get_config_paths():\n",
        "    paths = []\n",
        "\n",
        "def get_config_paths():\n",
        "    paths = []\n",
        "\n",
        "    config_name = \"llama_config\"\n",
        "    config_base = \"configs\"\n",
        "\n",
        "    base_config_path = os.path.join(config_base, config_name + \".yaml\")\n",
        "    if os.path.exists(base_config_path):\n",
        "        paths.append(base_config_path)\n",
        "\n",
        "    local_config_path = os.path.join(config_base, config_name + \"_local.yaml\")\n",
        "    if os.path.exists(local_config_path):\n",
        "        paths.append(local_config_path)\n",
        "\n",
        "    home = os.path.expanduser(\"~\")\n",
        "    home_config_path = os.path.join(home, \".\" + config_name + \".yaml\")\n",
        "    if os.path.exists(home_config_path):\n",
        "        paths.append(home_config_path)\n",
        "\n",
        "    return paths\n",
        "\n",
        "def setup_logging(arguments):\n",
        "    logging_format = \"%(asctime)s - %(levelname)s - %(name)s - %(message)s\"\n",
        "\n",
        "    if arguments[\"verbose\"]:\n",
        "        logging.basicConfig(level=logging.DEBUG, format=logging_format)\n",
        "    elif arguments[\"verbose_info\"]:\n",
        "        logging.basicConfig(level=logging.INFO, format=logging_format)\n",
        "    else:\n",
        "        logging.basicConfig(level=logging.WARNING, format=logging_format)\n",
        "\n",
        "    root_logger = logging.getLogger()\n",
        "\n",
        "    if arguments[\"verbose\"]:\n",
        "        root_logger.setLevel(logging.DEBUG)\n",
        "    elif arguments[\"verbose_info\"]:\n",
        "        root_logger.setLevel(logging.INFO)\n",
        "    else:\n",
        "        root_logger.setLevel(logging.WARNING)\n",
        "\n",
        "    logging.getLogger(\"urllib3\").setLevel(logging.WARNING)\n",
        "    logging.getLogger(\"filelock\").setLevel(logging.WARNING)\n",
        "    logging.getLogger(\"smart_open\").setLevel(logging.WARNING)\n",
        "    logging.getLogger(\"botocore\").setLevel(logging.WARNING)"
      ],
      "metadata": {
        "id": "jzrhEUNfMh2Z"
      },
      "execution_count": null,
      "outputs": []
    },
    {
      "cell_type": "markdown",
      "source": [
        "### 3. Implement tokenizer"
      ],
      "metadata": {
        "id": "Cl2ZOpfEMVTa"
      }
    },
    {
      "cell_type": "code",
      "source": [
        "# Get function for tokenization, based on config parameters\n",
        "def get_tokenize_function(tokenizer, _max_length):\n",
        "  def tokenize_function(examples):\n",
        "    max_length = _max_length\n",
        "\n",
        "    # Create the JSON string\n",
        "    json_string = json.dumps([{\n",
        "        \"question\": examples[\"question\"][0],\n",
        "        \"answer\": examples[\"answer\"][0],\n",
        "        # \"context\": examples[\"context\"][0]\n",
        "    }])\n",
        "\n",
        "    # Run tokenizer on the JSON string\n",
        "    tokenized_inputs = tokenizer(\n",
        "        json_string,\n",
        "        return_tensors=\"np\",\n",
        "        padding=True,\n",
        "    )\n",
        "\n",
        "    # Calculate max length\n",
        "    max_length = min(\n",
        "        tokenized_inputs[\"input_ids\"].shape[1],\n",
        "        max_length\n",
        "    )\n",
        "\n",
        "    if tokenized_inputs[\"input_ids\"].shape[1] > max_length:\n",
        "        logger.warn(\n",
        "            f\"Truncating input from {tokenized_inputs['input_ids'].shape[1]} to {max_length}\"\n",
        "        )\n",
        "\n",
        "    # tokenizer.truncation_side = \"left\"\n",
        "\n",
        "    tokenized_inputs = tokenizer(\n",
        "        json_string,\n",
        "        return_tensors=\"np\",\n",
        "        truncation=True,\n",
        "        padding=True,\n",
        "        max_length=max_length,\n",
        "    )\n",
        "\n",
        "    tokenized_inputs[\"labels\"] = tokenized_inputs[\"input_ids\"]\n",
        "\n",
        "    return tokenized_inputs\n",
        "  return tokenize_function"
      ],
      "metadata": {
        "id": "v4L9O9kxMXmX"
      },
      "execution_count": null,
      "outputs": []
    },
    {
      "cell_type": "markdown",
      "source": [
        "### 4. Implement Trainer class"
      ],
      "metadata": {
        "id": "0sIVgwwhMMK-"
      }
    },
    {
      "cell_type": "code",
      "source": [
        "# Trainer class to include logging and history\n",
        "class Trainer(transformers.Trainer):\n",
        "    def __init__(\n",
        "        self,\n",
        "        model,\n",
        "        model_flops,\n",
        "        total_steps,\n",
        "        args=None,\n",
        "        data_collator=None,\n",
        "        train_dataset=None,\n",
        "        eval_dataset=None,\n",
        "        tokenizer=None,\n",
        "        model_init=None,\n",
        "        compute_metrics=None,\n",
        "        callbacks=None,\n",
        "        optimizers=(None, None),\n",
        "    ):\n",
        "        super(Trainer, self).__init__(\n",
        "            model,\n",
        "            args,\n",
        "            data_collator,\n",
        "            train_dataset,\n",
        "            eval_dataset,\n",
        "            tokenizer,\n",
        "            model_init,\n",
        "            compute_metrics,\n",
        "            callbacks,\n",
        "            optimizers,\n",
        "        )\n",
        "\n",
        "        self.total_steps = total_steps\n",
        "        self.model_flops = model_flops\n",
        "        self.start_step = 0\n",
        "\n",
        "    def training_step(self, model, inputs):\n",
        "        if inputs[\"input_ids\"].numel() == 0:\n",
        "\n",
        "          print(\"Inputs: \", inputs)\n",
        "          print(\"Inputs - input_ids\", inputs[\"input_ids\"])\n",
        "          print(\"numel\", inputs[\"input_ids\"].numel())\n",
        "\n",
        "          return torch.tensor(0)\n",
        "        else:\n",
        "          model.train()\n",
        "          inputs = self._prepare_inputs(inputs)\n",
        "\n",
        "          with self.compute_loss_context_manager():\n",
        "              loss = self.compute_loss(model, inputs)\n",
        "\n",
        "          if self.args.n_gpu > 1:\n",
        "              loss = loss.mean()  # mean() to average on multi-gpu parallel training\n",
        "\n",
        "          # if self.do_grad_scaling:\n",
        "          #     self.scaler.scale(loss).backward()\n",
        "          # else:\n",
        "          self.accelerator.backward(loss)\n",
        "\n",
        "          return loss.detach() / self.args.gradient_accumulation_steps\n",
        "\n",
        "    def log(self, logs):\n",
        "        \"\"\"\n",
        "        Log `logs` on the various objects watching training.\n",
        "        Subclass and override this method to inject custom behavior.\n",
        "        Args:\n",
        "            logs (`Dict[str, float]`):\n",
        "                The values to log.\n",
        "        \"\"\"\n",
        "        if self.state.epoch is not None:\n",
        "            logs[\"epoch\"] = round(self.state.epoch, 2)\n",
        "\n",
        "        self.update_log_timing(logs)\n",
        "\n",
        "        output = {**logs, **{\"step\": self.state.global_step}}\n",
        "        self.update_history(output)\n",
        "\n",
        "        logger.debug(\"Step (\" + str(self.state.global_step) + \") Logs: \" + str(logs))\n",
        "        self.control = self.callback_handler.on_log(\n",
        "            self.args, self.state, self.control, logs\n",
        "        )\n",
        "\n",
        "    def update_log_timing(self, logs):\n",
        "        if len(self.state.log_history) == 0:\n",
        "            self.start_time = time.time()\n",
        "            logs[\"iter_time\"] = 0.0\n",
        "            logs[\"flops\"] = 0.0\n",
        "            logs[\"remaining_time\"] = 0.0\n",
        "            self.start_step = self.state.global_step\n",
        "        elif self.state.global_step > self.start_step:\n",
        "            logs[\"iter_time\"] = (time.time() - self.start_time) / (\n",
        "                self.state.global_step - self.start_step\n",
        "            )\n",
        "            logs[\"flops\"] = self.model_flops / logs[\"iter_time\"]\n",
        "            logs[\"remaining_time\"] = (self.total_steps - self.state.global_step) * logs[\n",
        "                \"iter_time\"\n",
        "            ]\n",
        "\n",
        "    def update_history(self, output):\n",
        "        if \"eval_loss\" in output:\n",
        "            return\n",
        "        if len(self.state.log_history) > 0:\n",
        "            smoothing_window = 100\n",
        "            p = 1.0 / smoothing_window\n",
        "            if \"loss\" in output:\n",
        "                output[\"loss\"] = output[\"loss\"] * p + self.state.log_history[-1][\n",
        "                    \"loss\"\n",
        "                ] * (1.0 - p)\n",
        "        self.state.log_history.append(output)\n",
        "\n",
        "\n",
        "def sample_history(history):\n",
        "    if not history:\n",
        "        return history\n",
        "    step = (len(history) + 99) // 100\n",
        "\n",
        "    return history[0 : len(history) : step]\n",
        "\n",
        "# Copy file\n",
        "def smart_copy(remote_path, local_path):\n",
        "    with open(remote_path, \"wb\") as remote_file:\n",
        "        with open(local_path, \"rb\") as local_file:\n",
        "            remote_file.write(local_file.read())"
      ],
      "metadata": {
        "id": "Uy_9GUGDMSzo"
      },
      "execution_count": null,
      "outputs": []
    },
    {
      "cell_type": "markdown",
      "source": [
        "### 5. Set up training config"
      ],
      "metadata": {
        "id": "7UTTdH0EqNh_"
      }
    },
    {
      "cell_type": "code",
      "source": [
        "model_name = \"EleutherAI/pythia-410m-deduped\"\n",
        "\n",
        "dataset_path = \"virattt/llama-3-8b-financialQA\""
      ],
      "metadata": {
        "id": "Ywu58C9OqGFp"
      },
      "execution_count": null,
      "outputs": []
    },
    {
      "cell_type": "code",
      "source": [
        "training_config = {\n",
        "    \"model\": {\n",
        "        \"pretrained_name\": model_name,\n",
        "        \"max_length\" : 2048\n",
        "    },\n",
        "    \"datasets\": {\n",
        "        \"use_hf\": True,\n",
        "        \"path\": dataset_path\n",
        "    },\n",
        "    \"verbose\": True\n",
        "}"
      ],
      "metadata": {
        "id": "7-OTqgvgvJuT"
      },
      "execution_count": null,
      "outputs": []
    },
    {
      "cell_type": "markdown",
      "source": [
        "### 6. Load and tokenize dataset"
      ],
      "metadata": {
        "id": "dQULc4qFUhzP"
      }
    },
    {
      "cell_type": "code",
      "source": [
        "tokenizer = AutoTokenizer.from_pretrained(model_name)\n",
        "tokenizer.pad_token = tokenizer.eos_token\n",
        "\n",
        "# Load the dataset\n",
        "random.seed(42)\n",
        "finetuning_dataset_loaded = datasets.load_dataset(dataset_path, split=\"train\")\n",
        "\n",
        "# Tokenize the dataset\n",
        "max_length = training_config[\"model\"][\"max_length\"]\n",
        "tokenized_dataset = finetuning_dataset_loaded.map(\n",
        "    get_tokenize_function(tokenizer, max_length), # returns tokenize_function\n",
        "    batched=True,\n",
        "    batch_size=1,\n",
        "    drop_last_batch=True\n",
        ")\n",
        "tokenized_dataset = tokenized_dataset.with_format(\"torch\")"
      ],
      "metadata": {
        "colab": {
          "base_uri": "https://localhost:8080/",
          "height": 130,
          "referenced_widgets": [
            "4253ff620a2e43e79efcf54403ecce0b",
            "6f9f11a0a6bd429c96997f134de9d3c7",
            "e8182524cc5e47a7a5f13c578d1494ce",
            "6b58964e8b2b4df2a296aef4586d1332",
            "b3783e8eeeb743e08ccabfcb10a8a87e",
            "2d2690e512bf47a88a34f2c9d5de55b3",
            "160b983723c547c0b0dd455376468819",
            "68bb2b89d31f45cc845f03c3abdb0a18",
            "d6cb9bad47634b4bae281e5b4f64fb2d",
            "6826bbc309dc493196e8f5b984b5f9cc",
            "bc623a662f1b4c07bda4fbe2dafee242",
            "e724b4bc1c474e54a6ad0b1e958b8edd",
            "956c54ea61ea4e8ab0702c404262d532",
            "66f717fa74804061842726998423c280",
            "4d6ed09c3d4d4720a6f620f86292bd0c",
            "1c3fe95cae634620a6d7bec6b921324b",
            "2fbb523c5e954531bf8255c2871bc8fa",
            "2f284e3708f54fa1a96e796512a0e08f",
            "dcb6583dcbb04611aac969628b6f3434",
            "b35f6a58182f4c99ac4c4b1da552fab6",
            "c23352a5bec640ee9bfb7202e500b969",
            "be1936588f5b457da5eb7d9d7aa019f5",
            "f3f551138528466aaad532ccf3d09382",
            "dafdf62a0b6c4fdeb17e1a62da738b2a",
            "87076fcf27954728bec6bcb6672875d6",
            "c870fd7eca414765a77b3110c743fd4d",
            "3945c1383e1549a5936555f892915c07",
            "08cedd5bfd474bc39bfd5dbb959ea63b",
            "0ef2a25e8af9423fb313d7278a88d0bc",
            "40896598cd4448f793ad20ba7a085325",
            "002fb0defdb44589be7bd0ca0eebe94f",
            "5a1cbd599922479784ec74a339161438",
            "08a36d19e5174cbe9192a549c0212fb7"
          ]
        },
        "id": "YAPp6OEJwGLJ",
        "outputId": "356a62d4-e9e9-4c2a-ee9c-68972b6a3b0d"
      },
      "execution_count": null,
      "outputs": [
        {
          "output_type": "stream",
          "name": "stderr",
          "text": [
            "Special tokens have been added in the vocabulary, make sure the associated word embeddings are fine-tuned or trained.\n"
          ]
        },
        {
          "output_type": "display_data",
          "data": {
            "text/plain": [
              "Downloading data:   0%|          | 0.00/506k [00:00<?, ?B/s]"
            ],
            "application/vnd.jupyter.widget-view+json": {
              "version_major": 2,
              "version_minor": 0,
              "model_id": "4253ff620a2e43e79efcf54403ecce0b"
            }
          },
          "metadata": {}
        },
        {
          "output_type": "display_data",
          "data": {
            "text/plain": [
              "Generating train split:   0%|          | 0/2000 [00:00<?, ? examples/s]"
            ],
            "application/vnd.jupyter.widget-view+json": {
              "version_major": 2,
              "version_minor": 0,
              "model_id": "e724b4bc1c474e54a6ad0b1e958b8edd"
            }
          },
          "metadata": {}
        },
        {
          "output_type": "display_data",
          "data": {
            "text/plain": [
              "Map:   0%|          | 0/2000 [00:00<?, ? examples/s]"
            ],
            "application/vnd.jupyter.widget-view+json": {
              "version_major": 2,
              "version_minor": 0,
              "model_id": "f3f551138528466aaad532ccf3d09382"
            }
          },
          "metadata": {}
        }
      ]
    },
    {
      "cell_type": "markdown",
      "source": [
        "### 7. Split tokenized dataset into train + test"
      ],
      "metadata": {
        "id": "fgtLiD-eUuyY"
      }
    },
    {
      "cell_type": "code",
      "source": [
        "# Split the dataset into train / test\n",
        "split_dataset = tokenized_dataset.train_test_split(test_size=0.2, shuffle=True, seed=42)\n",
        "\n",
        "train_dataset = split_dataset['train']\n",
        "test_dataset = split_dataset['test']\n",
        "\n",
        "print(train_dataset)\n",
        "print(test_dataset)"
      ],
      "metadata": {
        "colab": {
          "base_uri": "https://localhost:8080/"
        },
        "id": "hplowDkoUu_h",
        "outputId": "8e095388-5517-4df6-b7ab-affb8a9b914a"
      },
      "execution_count": null,
      "outputs": [
        {
          "output_type": "stream",
          "name": "stdout",
          "text": [
            "Dataset({\n",
            "    features: ['question', 'answer', 'context', 'ticker', 'filing', 'input_ids', 'attention_mask', 'labels'],\n",
            "    num_rows: 1600\n",
            "})\n",
            "Dataset({\n",
            "    features: ['question', 'answer', 'context', 'ticker', 'filing', 'input_ids', 'attention_mask', 'labels'],\n",
            "    num_rows: 400\n",
            "})\n"
          ]
        }
      ]
    },
    {
      "cell_type": "markdown",
      "source": [
        "### 8. Load base model"
      ],
      "metadata": {
        "id": "hcvs5ulVvLKt"
      }
    },
    {
      "cell_type": "code",
      "source": [
        "model = AutoModelForCausalLM.from_pretrained(model_name)"
      ],
      "metadata": {
        "id": "eSpmIYe_v6yi",
        "colab": {
          "base_uri": "https://localhost:8080/",
          "height": 81,
          "referenced_widgets": [
            "1a5c7c70b7954c6ea55673c18eb61ba7",
            "ba1885c6a405400f91f6c94a1983417e",
            "ffbddbdbf39440dd9aeeb65b099a7eac",
            "53eff6d7b12f4e00aa478ebe7b40b880",
            "01386607e18441e08265ed3844c78dd6",
            "087b8e5f459c418cb570607e3c64aea5",
            "335a159e426c4b77b191ac8e7e92ee55",
            "74846c70132a4b6e9e0a3eb873a8f871",
            "e4e63970cb7b43d3b264eeac91fbfc24",
            "e88898e021a74e4c8fa4c56fa965613c",
            "7d100f1358004edc8086b271cd13f809",
            "7a938fccf28c4e428c8cba3efa0d7458",
            "0b352df74c6e44fd973353b262047c83",
            "4b8dd4ce15214e41a58ca614aeb373d9",
            "cabe949faabd42b7b48ed9eca44e617f",
            "c6e07a1d57a5485c80b6dfee09a0f0ec",
            "cd6e12a2b97d43818f4de6e64e1829eb",
            "41bcca6c041f4de197aa796ece5ebefd",
            "77765db38ff245b28d8c848344390819",
            "562fe95558e74e7ba7b7370c282519a7",
            "3a48939dff5e4ce5b4904a0780dadc34",
            "4d14b9dc791f44f39fb22046ff6e32c6"
          ]
        },
        "outputId": "5ae6b675-9985-4def-f9ab-b23245b26b4c"
      },
      "execution_count": null,
      "outputs": [
        {
          "output_type": "display_data",
          "data": {
            "text/plain": [
              "config.json:   0%|          | 0.00/570 [00:00<?, ?B/s]"
            ],
            "application/vnd.jupyter.widget-view+json": {
              "version_major": 2,
              "version_minor": 0,
              "model_id": "1a5c7c70b7954c6ea55673c18eb61ba7"
            }
          },
          "metadata": {}
        },
        {
          "output_type": "display_data",
          "data": {
            "text/plain": [
              "model.safetensors:   0%|          | 0.00/911M [00:00<?, ?B/s]"
            ],
            "application/vnd.jupyter.widget-view+json": {
              "version_major": 2,
              "version_minor": 0,
              "model_id": "7a938fccf28c4e428c8cba3efa0d7458"
            }
          },
          "metadata": {}
        }
      ]
    },
    {
      "cell_type": "code",
      "source": [
        "device_count = torch.cuda.device_count()\n",
        "if device_count > 0:\n",
        "    logger.debug(\"Select GPU device\")\n",
        "    device = torch.device(\"cuda\")\n",
        "else:\n",
        "    logger.debug(\"Select CPU device\")\n",
        "    device = torch.device(\"cpu\")"
      ],
      "metadata": {
        "id": "RsslUIlzwKiG"
      },
      "execution_count": null,
      "outputs": []
    },
    {
      "cell_type": "code",
      "source": [
        "model.to(device)"
      ],
      "metadata": {
        "colab": {
          "base_uri": "https://localhost:8080/"
        },
        "id": "Bu980yA2wL_a",
        "outputId": "7a7a7e45-419d-446c-dc33-acaeabeafaad"
      },
      "execution_count": null,
      "outputs": [
        {
          "output_type": "execute_result",
          "data": {
            "text/plain": [
              "GPTNeoXForCausalLM(\n",
              "  (gpt_neox): GPTNeoXModel(\n",
              "    (embed_in): Embedding(50304, 1024)\n",
              "    (emb_dropout): Dropout(p=0.0, inplace=False)\n",
              "    (layers): ModuleList(\n",
              "      (0-23): 24 x GPTNeoXLayer(\n",
              "        (input_layernorm): LayerNorm((1024,), eps=1e-05, elementwise_affine=True)\n",
              "        (post_attention_layernorm): LayerNorm((1024,), eps=1e-05, elementwise_affine=True)\n",
              "        (post_attention_dropout): Dropout(p=0.0, inplace=False)\n",
              "        (post_mlp_dropout): Dropout(p=0.0, inplace=False)\n",
              "        (attention): GPTNeoXAttention(\n",
              "          (rotary_emb): GPTNeoXRotaryEmbedding()\n",
              "          (query_key_value): Linear(in_features=1024, out_features=3072, bias=True)\n",
              "          (dense): Linear(in_features=1024, out_features=1024, bias=True)\n",
              "          (attention_dropout): Dropout(p=0.0, inplace=False)\n",
              "        )\n",
              "        (mlp): GPTNeoXMLP(\n",
              "          (dense_h_to_4h): Linear(in_features=1024, out_features=4096, bias=True)\n",
              "          (dense_4h_to_h): Linear(in_features=4096, out_features=1024, bias=True)\n",
              "          (act): GELUActivation()\n",
              "        )\n",
              "      )\n",
              "    )\n",
              "    (final_layer_norm): LayerNorm((1024,), eps=1e-05, elementwise_affine=True)\n",
              "  )\n",
              "  (embed_out): Linear(in_features=1024, out_features=50304, bias=False)\n",
              ")"
            ]
          },
          "metadata": {},
          "execution_count": 15
        }
      ]
    },
    {
      "cell_type": "markdown",
      "source": [
        "### 9. Define inference function"
      ],
      "metadata": {
        "id": "luvfw43wwRB0"
      }
    },
    {
      "cell_type": "code",
      "source": [
        "def inference(text, model, tokenizer, max_input_tokens=1024, max_output_tokens=100):\n",
        "  # Tokenize\n",
        "  input_ids = tokenizer.encode(\n",
        "          text,\n",
        "          return_tensors=\"pt\",\n",
        "          truncation=True,\n",
        "          max_length=max_input_tokens\n",
        "  )\n",
        "\n",
        "  # Generate\n",
        "  device = model.device\n",
        "  generated_tokens_with_prompt = model.generate(\n",
        "    input_ids=input_ids.to(device),\n",
        "    max_length=max_output_tokens\n",
        "  )\n",
        "\n",
        "  # Decode\n",
        "  generated_text_with_prompt = tokenizer.batch_decode(generated_tokens_with_prompt, skip_special_tokens=True)\n",
        "\n",
        "  # Strip the prompt\n",
        "  generated_text_answer = generated_text_with_prompt[0][len(text):]\n",
        "\n",
        "  return generated_text_answer"
      ],
      "metadata": {
        "id": "F8SNu4UKwNaQ"
      },
      "execution_count": null,
      "outputs": []
    },
    {
      "cell_type": "markdown",
      "source": [
        "### 10. Run the base model (before finetuning)"
      ],
      "metadata": {
        "id": "HYDWL0pAwUm2"
      }
    },
    {
      "cell_type": "code",
      "source": [
        "test_text = test_dataset[0]['question']\n",
        "print(\"Question input (test):\", test_text)\n",
        "print(f\"Correct answer: {test_dataset[0]['answer']}\")\n",
        "print(\"Model's answer: \")\n",
        "print(inference(test_text, model, tokenizer))"
      ],
      "metadata": {
        "colab": {
          "base_uri": "https://localhost:8080/"
        },
        "id": "6glEFTBMwPxR",
        "outputId": "441fb69b-6f25-456b-fca4-544c1adab6cb"
      },
      "execution_count": null,
      "outputs": [
        {
          "output_type": "stream",
          "name": "stderr",
          "text": [
            "The attention mask and the pad token id were not set. As a consequence, you may observe unexpected behavior. Please pass your input's `attention_mask` to obtain reliable results.\n",
            "Setting `pad_token_id` to `eos_token_id`:0 for open-end generation.\n"
          ]
        },
        {
          "output_type": "stream",
          "name": "stdout",
          "text": [
            "Question input (test): What accounting principles are followed for the assessment and recording of critical accounting estimates?\n",
            "Correct answer: The preparation and recording of critical accounting estimates in financial statements are conducted in accordance with accounting principles generally accepted in the United States of America (GAAP), using management's estimates and assumptions based on historical experience and other factors deemed reasonable under the circumstances.\n",
            "Model's answer: \n",
            "\n",
            "\n",
            "The following are the principles that are followed for the assessment and recording of critical accounting estimates:\n",
            "\n",
            "The critical accounting estimate is the sum of all estimates of the critical accounting period.\n",
            "\n",
            "The critical accounting estimate is the sum of all estimates of the critical accounting period.\n",
            "\n",
            "The critical accounting estimate is the sum of all estimates of the critical accounting period.\n",
            "\n",
            "The critical accounting estimate is the sum of all\n"
          ]
        }
      ]
    },
    {
      "cell_type": "markdown",
      "source": [
        "### 11. Set up hyperparameters for training"
      ],
      "metadata": {
        "id": "qjUWi4MhwonB"
      }
    },
    {
      "cell_type": "code",
      "source": [
        "# Play around with this value\n",
        "max_steps = 1000"
      ],
      "metadata": {
        "id": "kwwELrBDwWOM"
      },
      "execution_count": null,
      "outputs": []
    },
    {
      "cell_type": "code",
      "source": [
        "import time\n",
        "\n",
        "# Get current timestamp with date, hour, minute, and seconds\n",
        "timestamp = time.strftime(\"%Y-%m-%d_%H:%M:%S\")\n",
        "\n",
        "# Set up training arguments\n",
        "trained_model_name = f\"financialQA_{max_steps}_steps_{timestamp}\"\n",
        "output_dir = trained_model_name"
      ],
      "metadata": {
        "id": "De28EFzhwt1L"
      },
      "execution_count": null,
      "outputs": []
    },
    {
      "cell_type": "code",
      "source": [
        "training_args = TrainingArguments(\n",
        "\n",
        "  # Learning rate\n",
        "  learning_rate=1.0e-5,\n",
        "\n",
        "  # Number of training epochs\n",
        "  num_train_epochs=2,\n",
        "\n",
        "  # Max steps to train for (each step is a batch of data)\n",
        "  # Overrides num_train_epochs, if not -1\n",
        "  max_steps=max_steps,\n",
        "\n",
        "  # Batch size for training\n",
        "  per_device_train_batch_size=1,\n",
        "\n",
        "  # Directory to save model checkpoints\n",
        "  output_dir=output_dir,\n",
        "\n",
        "  # Other arguments\n",
        "  overwrite_output_dir=False, # Overwrite the content of the output directory\n",
        "  disable_tqdm=False, # Disable progress bars\n",
        "  eval_steps=120, # Number of update steps between two evaluations\n",
        "  save_steps=120, # After # steps model is saved\n",
        "  warmup_steps=1, # Number of warmup steps for learning rate scheduler\n",
        "  per_device_eval_batch_size=1, # Batch size for evaluation\n",
        "  evaluation_strategy=\"steps\",\n",
        "  logging_strategy=\"steps\",\n",
        "  logging_steps=1,\n",
        "  optim=\"adafactor\",\n",
        "  gradient_accumulation_steps = 4,\n",
        "  gradient_checkpointing=False,\n",
        "\n",
        "  # Parameters for early stopping\n",
        "  load_best_model_at_end=True,\n",
        "  save_total_limit=1,\n",
        "  metric_for_best_model=\"eval_loss\",\n",
        "  greater_is_better=False\n",
        ")"
      ],
      "metadata": {
        "colab": {
          "base_uri": "https://localhost:8080/"
        },
        "id": "Ae9aG-5zw_Zc",
        "outputId": "4305fa62-dc93-4980-896c-7fc4d9a8fc65"
      },
      "execution_count": null,
      "outputs": [
        {
          "output_type": "stream",
          "name": "stderr",
          "text": [
            "/usr/local/lib/python3.10/dist-packages/transformers/training_args.py:1474: FutureWarning: `evaluation_strategy` is deprecated and will be removed in version 4.46 of 🤗 Transformers. Use `eval_strategy` instead\n",
            "  warnings.warn(\n"
          ]
        }
      ]
    },
    {
      "cell_type": "code",
      "source": [
        "model_flops = (\n",
        "  model.floating_point_ops(\n",
        "    {\n",
        "       \"input_ids\": torch.zeros(\n",
        "           (1, training_config[\"model\"][\"max_length\"])\n",
        "      )\n",
        "    }\n",
        "  )\n",
        "  * training_args.gradient_accumulation_steps\n",
        ")\n",
        "\n",
        "print(model)\n",
        "print(\"Memory footprint\", model.get_memory_footprint() / 1e9, \"GB\")\n",
        "print(\"Flops\", model_flops / 1e9, \"GFLOPs\")"
      ],
      "metadata": {
        "id": "PlKzHX3NxAH3",
        "colab": {
          "base_uri": "https://localhost:8080/"
        },
        "outputId": "c93c7d53-aaf9-40c3-876b-cfc301bbc500"
      },
      "execution_count": null,
      "outputs": [
        {
          "output_type": "stream",
          "name": "stdout",
          "text": [
            "GPTNeoXForCausalLM(\n",
            "  (gpt_neox): GPTNeoXModel(\n",
            "    (embed_in): Embedding(50304, 1024)\n",
            "    (emb_dropout): Dropout(p=0.0, inplace=False)\n",
            "    (layers): ModuleList(\n",
            "      (0-23): 24 x GPTNeoXLayer(\n",
            "        (input_layernorm): LayerNorm((1024,), eps=1e-05, elementwise_affine=True)\n",
            "        (post_attention_layernorm): LayerNorm((1024,), eps=1e-05, elementwise_affine=True)\n",
            "        (post_attention_dropout): Dropout(p=0.0, inplace=False)\n",
            "        (post_mlp_dropout): Dropout(p=0.0, inplace=False)\n",
            "        (attention): GPTNeoXAttention(\n",
            "          (rotary_emb): GPTNeoXRotaryEmbedding()\n",
            "          (query_key_value): Linear(in_features=1024, out_features=3072, bias=True)\n",
            "          (dense): Linear(in_features=1024, out_features=1024, bias=True)\n",
            "          (attention_dropout): Dropout(p=0.0, inplace=False)\n",
            "        )\n",
            "        (mlp): GPTNeoXMLP(\n",
            "          (dense_h_to_4h): Linear(in_features=1024, out_features=4096, bias=True)\n",
            "          (dense_4h_to_h): Linear(in_features=4096, out_features=1024, bias=True)\n",
            "          (act): GELUActivation()\n",
            "        )\n",
            "      )\n",
            "    )\n",
            "    (final_layer_norm): LayerNorm((1024,), eps=1e-05, elementwise_affine=True)\n",
            "  )\n",
            "  (embed_out): Linear(in_features=1024, out_features=50304, bias=False)\n",
            ")\n",
            "Memory footprint 1.72829168 GB\n",
            "Flops 17391.09433344 GFLOPs\n"
          ]
        }
      ]
    },
    {
      "cell_type": "code",
      "source": [
        "trainer = Trainer(\n",
        "    model=model,\n",
        "    model_flops=model_flops,\n",
        "    total_steps=max_steps,\n",
        "    args=training_args,\n",
        "    train_dataset=train_dataset,\n",
        "    eval_dataset=test_dataset,\n",
        ")"
      ],
      "metadata": {
        "colab": {
          "base_uri": "https://localhost:8080/"
        },
        "id": "mI4TTU4kyamd",
        "outputId": "a5d29788-250f-4b9c-88b6-68c7a9a45777"
      },
      "execution_count": null,
      "outputs": [
        {
          "output_type": "stream",
          "name": "stderr",
          "text": [
            "max_steps is given, it will override any value given in num_train_epochs\n"
          ]
        }
      ]
    },
    {
      "cell_type": "markdown",
      "source": [
        "### 12. Finetune the model"
      ],
      "metadata": {
        "id": "SNW4yTR00KEC"
      }
    },
    {
      "cell_type": "code",
      "source": [
        "import time\n",
        "\n",
        "start_time = time.time()\n",
        "\n",
        "training_output = trainer.train()\n",
        "\n",
        "elapsed_time = time.time() - start_time\n",
        "print(f\"Elapsed time: {elapsed_time:.2f} seconds\")"
      ],
      "metadata": {
        "id": "_H9DZZpIyI6e",
        "colab": {
          "base_uri": "https://localhost:8080/",
          "height": 344
        },
        "outputId": "659c1f30-d6f2-4297-99a6-cb5afa437afd"
      },
      "execution_count": null,
      "outputs": [
        {
          "output_type": "display_data",
          "data": {
            "text/plain": [
              "<IPython.core.display.HTML object>"
            ],
            "text/html": [
              "\n",
              "    <div>\n",
              "      \n",
              "      <progress value='1000' max='1000' style='width:300px; height:20px; vertical-align: middle;'></progress>\n",
              "      [1000/1000 08:25, Epoch 2/3]\n",
              "    </div>\n",
              "    <table border=\"1\" class=\"dataframe\">\n",
              "  <thead>\n",
              " <tr style=\"text-align: left;\">\n",
              "      <th>Step</th>\n",
              "      <th>Training Loss</th>\n",
              "      <th>Validation Loss</th>\n",
              "      <th>Time</th>\n",
              "      <th></th>\n",
              "    </tr>\n",
              "  </thead>\n",
              "  <tbody>\n",
              "    <tr>\n",
              "      <td>120</td>\n",
              "      <td>2.182023</td>\n",
              "      <td>1.827070</td>\n",
              "      <td>418.154693</td>\n",
              "      <td>36599285556689.742188</td>\n",
              "    </tr>\n",
              "    <tr>\n",
              "      <td>240</td>\n",
              "      <td>1.927420</td>\n",
              "      <td>1.752769</td>\n",
              "      <td>374.638856</td>\n",
              "      <td>35279927507673.835938</td>\n",
              "    </tr>\n",
              "    <tr>\n",
              "      <td>360</td>\n",
              "      <td>1.794343</td>\n",
              "      <td>1.701699</td>\n",
              "      <td>319.157861</td>\n",
              "      <td>34873965978446.593750</td>\n",
              "    </tr>\n",
              "    <tr>\n",
              "      <td>480</td>\n",
              "      <td>1.485202</td>\n",
              "      <td>1.704965</td>\n",
              "      <td>260.490987</td>\n",
              "      <td>34716629418237.175781</td>\n",
              "    </tr>\n",
              "    <tr>\n",
              "      <td>600</td>\n",
              "      <td>1.301752</td>\n",
              "      <td>1.699369</td>\n",
              "      <td>201.552839</td>\n",
              "      <td>34514213597254.785156</td>\n",
              "    </tr>\n",
              "    <tr>\n",
              "      <td>720</td>\n",
              "      <td>1.265264</td>\n",
              "      <td>1.682566</td>\n",
              "      <td>141.810430</td>\n",
              "      <td>34338140131239.960938</td>\n",
              "    </tr>\n",
              "    <tr>\n",
              "      <td>840</td>\n",
              "      <td>1.154213</td>\n",
              "      <td>1.729428</td>\n",
              "      <td>81.053261</td>\n",
              "      <td>34330205216052.785156</td>\n",
              "    </tr>\n",
              "    <tr>\n",
              "      <td>960</td>\n",
              "      <td>0.963753</td>\n",
              "      <td>1.733701</td>\n",
              "      <td>20.272419</td>\n",
              "      <td>34314788263190.539062</td>\n",
              "    </tr>\n",
              "  </tbody>\n",
              "</table><p>"
            ]
          },
          "metadata": {}
        },
        {
          "output_type": "stream",
          "name": "stdout",
          "text": [
            "Elapsed time: 506.98 seconds\n"
          ]
        }
      ]
    },
    {
      "cell_type": "markdown",
      "source": [
        "### 13. Save finetuned model locally"
      ],
      "metadata": {
        "id": "PhBKdZB51IYM"
      }
    },
    {
      "cell_type": "code",
      "source": [
        "save_dir = f'{output_dir}/final'\n",
        "\n",
        "trainer.save_model(save_dir)\n",
        "print(\"Saved model to:\", save_dir)"
      ],
      "metadata": {
        "colab": {
          "base_uri": "https://localhost:8080/"
        },
        "id": "fF7bqmko0OKc",
        "outputId": "fc896d58-568a-4e0f-be8a-da7e0a6a9f0d"
      },
      "execution_count": null,
      "outputs": [
        {
          "output_type": "stream",
          "name": "stdout",
          "text": [
            "Saved model to: financialQA_1000_steps_2024-05-28_22:34:02/final\n"
          ]
        }
      ]
    },
    {
      "cell_type": "markdown",
      "source": [
        "### 14. Run the finetuned model (after finetuning)"
      ],
      "metadata": {
        "id": "ftVkCqAs1Pul"
      }
    },
    {
      "cell_type": "code",
      "source": [
        "# Load the model\n",
        "finetuned_model = AutoModelForCausalLM.from_pretrained(save_dir, local_files_only=True)\n",
        "finetuned_model.to(device)"
      ],
      "metadata": {
        "id": "Ky9dCSfBW7_b"
      },
      "execution_count": null,
      "outputs": []
    },
    {
      "cell_type": "code",
      "source": [
        "test_question = test_dataset[0]['question']\n",
        "print()\n",
        "print()\n",
        "print(\"Question input (test):\")\n",
        "print(test_question)\n",
        "print()\n",
        "print()\n",
        "\n",
        "print(\"Finetuned model's answer: \")\n",
        "print(inference(test_question, finetuned_model, tokenizer))"
      ],
      "metadata": {
        "colab": {
          "base_uri": "https://localhost:8080/"
        },
        "id": "N3NMyIN-1N_1",
        "outputId": "ef04d3e2-d0fa-4597-b8a5-05078a1c336b"
      },
      "execution_count": null,
      "outputs": [
        {
          "output_type": "stream",
          "name": "stderr",
          "text": [
            "The attention mask and the pad token id were not set. As a consequence, you may observe unexpected behavior. Please pass your input's `attention_mask` to obtain reliable results.\n",
            "Setting `pad_token_id` to `eos_token_id`:0 for open-end generation.\n"
          ]
        },
        {
          "output_type": "stream",
          "name": "stdout",
          "text": [
            "\n",
            "\n",
            "Question input (test):\n",
            "What accounting principles are followed for the assessment and recording of critical accounting estimates?\n",
            "\n",
            "\n",
            "Finetuned model's answer: \n",
            "\n",
            "{\"question\": \"What are the principles followed for the assessment and recording of critical accounting estimates?\", \"answer\": \"The principles are to record and record and record and record and record and record and record and record and record and record and record and record and record and record and record and record and record and record and record and record and record and record and record and record and record and record and record and record and record\n"
          ]
        }
      ]
    },
    {
      "cell_type": "code",
      "source": [
        "test_answer = test_dataset[0]\n",
        "print(\"Target answer output (test):\", test_answer)"
      ],
      "metadata": {
        "id": "bCR3ygoc1TmQ"
      },
      "execution_count": null,
      "outputs": []
    },
    {
      "cell_type": "code",
      "source": [],
      "metadata": {
        "id": "-JFLeD-fKEdr"
      },
      "execution_count": null,
      "outputs": []
    }
  ]
}